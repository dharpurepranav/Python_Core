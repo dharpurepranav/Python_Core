{
 "cells": [
  {
   "cell_type": "code",
   "execution_count": 1,
   "id": "415060a3",
   "metadata": {},
   "outputs": [],
   "source": [
    "players = (\"Virat\", 33, [75,50,35,100], \"RCB\", \"IND\")"
   ]
  },
  {
   "cell_type": "code",
   "execution_count": 2,
   "id": "70a41332",
   "metadata": {},
   "outputs": [
    {
     "data": {
      "text/plain": [
       "('Virat', 33, [75, 50, 35, 100], 'RCB', 'IND')"
      ]
     },
     "execution_count": 2,
     "metadata": {},
     "output_type": "execute_result"
    }
   ],
   "source": [
    "players"
   ]
  },
  {
   "cell_type": "code",
   "execution_count": 3,
   "id": "76d2cbda",
   "metadata": {},
   "outputs": [
    {
     "data": {
      "text/plain": [
       "[75, 50, 35, 100]"
      ]
     },
     "execution_count": 3,
     "metadata": {},
     "output_type": "execute_result"
    }
   ],
   "source": [
    "players[2]"
   ]
  },
  {
   "cell_type": "code",
   "execution_count": 4,
   "id": "44e20f1d",
   "metadata": {},
   "outputs": [],
   "source": [
    "players[2].append(88)"
   ]
  },
  {
   "cell_type": "code",
   "execution_count": 5,
   "id": "2d1e66b1",
   "metadata": {},
   "outputs": [
    {
     "data": {
      "text/plain": [
       "[75, 50, 35, 100, 88]"
      ]
     },
     "execution_count": 5,
     "metadata": {},
     "output_type": "execute_result"
    }
   ],
   "source": [
    "players[2]"
   ]
  },
  {
   "cell_type": "code",
   "execution_count": 6,
   "id": "c978dad1",
   "metadata": {},
   "outputs": [
    {
     "data": {
      "text/plain": [
       "50"
      ]
     },
     "execution_count": 6,
     "metadata": {},
     "output_type": "execute_result"
    }
   ],
   "source": [
    "players[2][1]"
   ]
  },
  {
   "cell_type": "markdown",
   "id": "0fcc3810",
   "metadata": {},
   "source": [
    "IN Operator"
   ]
  },
  {
   "cell_type": "code",
   "execution_count": 7,
   "id": "85cdbe2e",
   "metadata": {},
   "outputs": [
    {
     "data": {
      "text/plain": [
       "('Virat', 33, [75, 50, 35, 100, 88], 'RCB', 'IND')"
      ]
     },
     "execution_count": 7,
     "metadata": {},
     "output_type": "execute_result"
    }
   ],
   "source": [
    "players"
   ]
  },
  {
   "cell_type": "code",
   "execution_count": 8,
   "id": "f1f33bf9",
   "metadata": {},
   "outputs": [
    {
     "data": {
      "text/plain": [
       "True"
      ]
     },
     "execution_count": 8,
     "metadata": {},
     "output_type": "execute_result"
    }
   ],
   "source": [
    "\"Virat\" in players"
   ]
  },
  {
   "cell_type": "code",
   "execution_count": 9,
   "id": "362ca201",
   "metadata": {},
   "outputs": [
    {
     "data": {
      "text/plain": [
       "True"
      ]
     },
     "execution_count": 9,
     "metadata": {},
     "output_type": "execute_result"
    }
   ],
   "source": [
    "\"RCB\" in players"
   ]
  },
  {
   "cell_type": "code",
   "execution_count": 11,
   "id": "c24d3ebc",
   "metadata": {},
   "outputs": [],
   "source": [
    "name = \"Pranav\""
   ]
  },
  {
   "cell_type": "code",
   "execution_count": 12,
   "id": "4c1ba7eb",
   "metadata": {},
   "outputs": [
    {
     "data": {
      "text/plain": [
       "True"
      ]
     },
     "execution_count": 12,
     "metadata": {},
     "output_type": "execute_result"
    }
   ],
   "source": [
    "\"Pranav\" in name"
   ]
  },
  {
   "cell_type": "markdown",
   "id": "97ee312e",
   "metadata": {},
   "source": [
    "Misc- Strings"
   ]
  },
  {
   "cell_type": "code",
   "execution_count": 13,
   "id": "f0f27d41",
   "metadata": {},
   "outputs": [],
   "source": [
    "location = \"C:\\newfolder\""
   ]
  },
  {
   "cell_type": "code",
   "execution_count": 14,
   "id": "25b86915",
   "metadata": {},
   "outputs": [
    {
     "name": "stdout",
     "output_type": "stream",
     "text": [
      "C:\n",
      "ewfolder\n"
     ]
    }
   ],
   "source": [
    "print(location)"
   ]
  },
  {
   "cell_type": "code",
   "execution_count": 16,
   "id": "b91bbcfa",
   "metadata": {},
   "outputs": [],
   "source": [
    "location = \"C:\\\\newfolder\""
   ]
  },
  {
   "cell_type": "code",
   "execution_count": 17,
   "id": "b62329ec",
   "metadata": {},
   "outputs": [
    {
     "name": "stdout",
     "output_type": "stream",
     "text": [
      "C:\\newfolder\n"
     ]
    }
   ],
   "source": [
    "print(location)"
   ]
  },
  {
   "cell_type": "code",
   "execution_count": 18,
   "id": "5f78f3b7",
   "metadata": {},
   "outputs": [],
   "source": [
    "location = r\"C:\\newfolder\""
   ]
  },
  {
   "cell_type": "code",
   "execution_count": 19,
   "id": "24526362",
   "metadata": {},
   "outputs": [
    {
     "name": "stdout",
     "output_type": "stream",
     "text": [
      "C:\\newfolder\n"
     ]
    }
   ],
   "source": [
    "print(location)"
   ]
  },
  {
   "cell_type": "code",
   "execution_count": 20,
   "id": "fdf8233d",
   "metadata": {},
   "outputs": [],
   "source": [
    "# r represent raw string"
   ]
  },
  {
   "cell_type": "markdown",
   "id": "403b2c1a",
   "metadata": {},
   "source": [
    "String Formatting"
   ]
  },
  {
   "cell_type": "code",
   "execution_count": 21,
   "id": "47dc4c7e",
   "metadata": {},
   "outputs": [],
   "source": [
    "chapters = 8\n",
    "strcount = 10"
   ]
  },
  {
   "cell_type": "code",
   "execution_count": 28,
   "id": "dc89909b",
   "metadata": {},
   "outputs": [],
   "source": [
    "msg = \"There will be \" + str(chapters) + \" chapters in the course, spanned across \" + str(strcount) + \" sessions.\""
   ]
  },
  {
   "cell_type": "code",
   "execution_count": 29,
   "id": "112d3cc4",
   "metadata": {},
   "outputs": [
    {
     "data": {
      "text/plain": [
       "'There will be 8 chapters in the course, spanned across 10 sessions.'"
      ]
     },
     "execution_count": 29,
     "metadata": {},
     "output_type": "execute_result"
    }
   ],
   "source": [
    "msg"
   ]
  },
  {
   "cell_type": "code",
   "execution_count": 30,
   "id": "788d5f73",
   "metadata": {},
   "outputs": [],
   "source": [
    "fmsg = \"There will be {} chapters in the course, spanned across {} sessions.\".format(chapters,strcount)"
   ]
  },
  {
   "cell_type": "code",
   "execution_count": 31,
   "id": "81c0e1fd",
   "metadata": {},
   "outputs": [
    {
     "data": {
      "text/plain": [
       "'There will be 8 chapters in the course, spanned across 10 sessions.'"
      ]
     },
     "execution_count": 31,
     "metadata": {},
     "output_type": "execute_result"
    }
   ],
   "source": [
    "fmsg"
   ]
  },
  {
   "cell_type": "code",
   "execution_count": 33,
   "id": "54bb7241",
   "metadata": {},
   "outputs": [],
   "source": [
    "fmsg = \"There will be {0} chapters in the course, spanned across {1} sessions. \\\n",
    "The {1} sessions are scheduled over weekdays\".format(chapters,strcount)"
   ]
  },
  {
   "cell_type": "code",
   "execution_count": 34,
   "id": "4c7c3bea",
   "metadata": {},
   "outputs": [
    {
     "data": {
      "text/plain": [
       "'There will be 8 chapters in the course, spanned across 10 sessions. The 10 sessions are scheduled over weekdays'"
      ]
     },
     "execution_count": 34,
     "metadata": {},
     "output_type": "execute_result"
    }
   ],
   "source": [
    "fmsg"
   ]
  },
  {
   "cell_type": "markdown",
   "id": "76531a7c",
   "metadata": {},
   "source": [
    "Dictonaries\n",
    "\n",
    "- collection of key value pairs\n",
    "- {}\n",
    "- mutable in nature"
   ]
  },
  {
   "cell_type": "code",
   "execution_count": 36,
   "id": "ba6c0aec",
   "metadata": {},
   "outputs": [],
   "source": [
    "fruits = {'a':'apple',\"b\":\"banana\",\"c\":\"cherry\"}"
   ]
  },
  {
   "cell_type": "code",
   "execution_count": 37,
   "id": "14d3d1ce",
   "metadata": {},
   "outputs": [
    {
     "data": {
      "text/plain": [
       "{'a': 'apple', 'b': 'banana', 'c': 'cherry'}"
      ]
     },
     "execution_count": 37,
     "metadata": {},
     "output_type": "execute_result"
    }
   ],
   "source": [
    "fruits"
   ]
  },
  {
   "cell_type": "code",
   "execution_count": 38,
   "id": "07144e09",
   "metadata": {},
   "outputs": [
    {
     "data": {
      "text/plain": [
       "dict"
      ]
     },
     "execution_count": 38,
     "metadata": {},
     "output_type": "execute_result"
    }
   ],
   "source": [
    "type(fruits)"
   ]
  },
  {
   "cell_type": "code",
   "execution_count": 39,
   "id": "74271e3e",
   "metadata": {},
   "outputs": [
    {
     "data": {
      "text/plain": [
       "3"
      ]
     },
     "execution_count": 39,
     "metadata": {},
     "output_type": "execute_result"
    }
   ],
   "source": [
    "len(fruits)"
   ]
  },
  {
   "cell_type": "code",
   "execution_count": 44,
   "id": "26787bf1",
   "metadata": {},
   "outputs": [],
   "source": [
    "fruits[\"p\"] = \"papaya\""
   ]
  },
  {
   "cell_type": "code",
   "execution_count": 41,
   "id": "076a6066",
   "metadata": {},
   "outputs": [
    {
     "data": {
      "text/plain": [
       "{'a': 'apple', 'b': 'banana', 'c': 'cherry', 'p': 'papaya'}"
      ]
     },
     "execution_count": 41,
     "metadata": {},
     "output_type": "execute_result"
    }
   ],
   "source": [
    "fruits"
   ]
  },
  {
   "cell_type": "code",
   "execution_count": 42,
   "id": "fef572a4",
   "metadata": {},
   "outputs": [],
   "source": [
    "del fruits[\"p\"]"
   ]
  },
  {
   "cell_type": "code",
   "execution_count": 43,
   "id": "ffb8a41d",
   "metadata": {},
   "outputs": [
    {
     "data": {
      "text/plain": [
       "{'a': 'apple', 'b': 'banana', 'c': 'cherry'}"
      ]
     },
     "execution_count": 43,
     "metadata": {},
     "output_type": "execute_result"
    }
   ],
   "source": [
    "fruits"
   ]
  },
  {
   "cell_type": "code",
   "execution_count": 45,
   "id": "a325a1ff",
   "metadata": {},
   "outputs": [
    {
     "data": {
      "text/plain": [
       "{'a': 'apple', 'b': 'banana', 'c': 'cherry', 'p': 'papaya'}"
      ]
     },
     "execution_count": 45,
     "metadata": {},
     "output_type": "execute_result"
    }
   ],
   "source": [
    "fruits"
   ]
  },
  {
   "cell_type": "code",
   "execution_count": 46,
   "id": "63020b9b",
   "metadata": {},
   "outputs": [],
   "source": [
    "fruits[\"a\"] = \"apricot\""
   ]
  },
  {
   "cell_type": "code",
   "execution_count": 47,
   "id": "b1c04906",
   "metadata": {},
   "outputs": [
    {
     "data": {
      "text/plain": [
       "{'a': 'apricot', 'b': 'banana', 'c': 'cherry', 'p': 'papaya'}"
      ]
     },
     "execution_count": 47,
     "metadata": {},
     "output_type": "execute_result"
    }
   ],
   "source": [
    "fruits"
   ]
  },
  {
   "cell_type": "code",
   "execution_count": 49,
   "id": "e1e1d08f",
   "metadata": {},
   "outputs": [
    {
     "data": {
      "text/plain": [
       "'papaya'"
      ]
     },
     "execution_count": 49,
     "metadata": {},
     "output_type": "execute_result"
    }
   ],
   "source": [
    "fruits.pop(\"p\")"
   ]
  },
  {
   "cell_type": "code",
   "execution_count": 50,
   "id": "da7e2117",
   "metadata": {},
   "outputs": [
    {
     "data": {
      "text/plain": [
       "{'a': 'apricot', 'b': 'banana', 'c': 'cherry'}"
      ]
     },
     "execution_count": 50,
     "metadata": {},
     "output_type": "execute_result"
    }
   ],
   "source": [
    "fruits"
   ]
  },
  {
   "cell_type": "code",
   "execution_count": 51,
   "id": "2da06c31",
   "metadata": {},
   "outputs": [
    {
     "data": {
      "text/plain": [
       "('c', 'cherry')"
      ]
     },
     "execution_count": 51,
     "metadata": {},
     "output_type": "execute_result"
    }
   ],
   "source": [
    "fruits.popitem()"
   ]
  },
  {
   "cell_type": "code",
   "execution_count": 54,
   "id": "b0336cf1",
   "metadata": {},
   "outputs": [
    {
     "name": "stdout",
     "output_type": "stream",
     "text": [
      "vertexblue from is This\n"
     ]
    }
   ],
   "source": [
    "#Sample input and output\n",
    "Input = \"This is from vertexblue\"\n",
    "print(\" \".join(Input.split()[::-1]))"
   ]
  },
  {
   "cell_type": "markdown",
   "id": "45eb64a2",
   "metadata": {},
   "source": [
    "MISC operations on dictonaries"
   ]
  },
  {
   "cell_type": "code",
   "execution_count": 55,
   "id": "3b39bb40",
   "metadata": {},
   "outputs": [],
   "source": [
    "fruits = {\"a\":\"apple\",\"b\":\"banana\",\"c\":\"custard\"}"
   ]
  },
  {
   "cell_type": "code",
   "execution_count": 56,
   "id": "4dd4b43d",
   "metadata": {},
   "outputs": [
    {
     "data": {
      "text/plain": [
       "{'a': 'apple', 'b': 'banana', 'c': 'custard'}"
      ]
     },
     "execution_count": 56,
     "metadata": {},
     "output_type": "execute_result"
    }
   ],
   "source": [
    "fruits"
   ]
  },
  {
   "cell_type": "code",
   "execution_count": 57,
   "id": "c1ca78aa",
   "metadata": {},
   "outputs": [
    {
     "data": {
      "text/plain": [
       "dict_keys(['a', 'b', 'c'])"
      ]
     },
     "execution_count": 57,
     "metadata": {},
     "output_type": "execute_result"
    }
   ],
   "source": [
    "fruits.keys()"
   ]
  },
  {
   "cell_type": "code",
   "execution_count": 58,
   "id": "37848aa5",
   "metadata": {},
   "outputs": [
    {
     "data": {
      "text/plain": [
       "dict_values(['apple', 'banana', 'custard'])"
      ]
     },
     "execution_count": 58,
     "metadata": {},
     "output_type": "execute_result"
    }
   ],
   "source": [
    "fruits.values()"
   ]
  },
  {
   "cell_type": "code",
   "execution_count": 59,
   "id": "9e9b3add",
   "metadata": {},
   "outputs": [
    {
     "data": {
      "text/plain": [
       "dict_items([('a', 'apple'), ('b', 'banana'), ('c', 'custard')])"
      ]
     },
     "execution_count": 59,
     "metadata": {},
     "output_type": "execute_result"
    }
   ],
   "source": [
    "fruits.items()"
   ]
  },
  {
   "cell_type": "code",
   "execution_count": 60,
   "id": "0623997d",
   "metadata": {},
   "outputs": [
    {
     "data": {
      "text/plain": [
       "True"
      ]
     },
     "execution_count": 60,
     "metadata": {},
     "output_type": "execute_result"
    }
   ],
   "source": [
    "\"apple\" in fruits.values()"
   ]
  },
  {
   "cell_type": "markdown",
   "id": "a67b3dda",
   "metadata": {},
   "source": [
    "Range\n",
    "\n",
    "- Used to generate a sequence of numbers.\n",
    "- start(included) , stop(excluded) , step"
   ]
  },
  {
   "cell_type": "code",
   "execution_count": 61,
   "id": "a29ce8c4",
   "metadata": {},
   "outputs": [],
   "source": [
    "r = range(0,11)"
   ]
  },
  {
   "cell_type": "code",
   "execution_count": 62,
   "id": "74a9fc76",
   "metadata": {},
   "outputs": [
    {
     "data": {
      "text/plain": [
       "range(0, 11)"
      ]
     },
     "execution_count": 62,
     "metadata": {},
     "output_type": "execute_result"
    }
   ],
   "source": [
    "r"
   ]
  },
  {
   "cell_type": "code",
   "execution_count": 63,
   "id": "636fb77f",
   "metadata": {},
   "outputs": [
    {
     "data": {
      "text/plain": [
       "range"
      ]
     },
     "execution_count": 63,
     "metadata": {},
     "output_type": "execute_result"
    }
   ],
   "source": [
    "type(r)"
   ]
  },
  {
   "cell_type": "code",
   "execution_count": 64,
   "id": "72fe2f59",
   "metadata": {},
   "outputs": [
    {
     "data": {
      "text/plain": [
       "[0, 1, 2, 3, 4, 5, 6, 7, 8, 9, 10]"
      ]
     },
     "execution_count": 64,
     "metadata": {},
     "output_type": "execute_result"
    }
   ],
   "source": [
    "list(r)"
   ]
  },
  {
   "cell_type": "code",
   "execution_count": 65,
   "id": "89f11eab",
   "metadata": {},
   "outputs": [
    {
     "data": {
      "text/plain": [
       "(0, 1, 2, 3, 4, 5, 6, 7, 8, 9, 10)"
      ]
     },
     "execution_count": 65,
     "metadata": {},
     "output_type": "execute_result"
    }
   ],
   "source": [
    "tuple(r)"
   ]
  },
  {
   "cell_type": "code",
   "execution_count": 66,
   "id": "c0de7bf6",
   "metadata": {},
   "outputs": [],
   "source": [
    "x = tuple(r)"
   ]
  },
  {
   "cell_type": "code",
   "execution_count": 67,
   "id": "dd087028",
   "metadata": {},
   "outputs": [
    {
     "data": {
      "text/plain": [
       "(0, 1, 2, 3, 4, 5, 6, 7, 8, 9, 10)"
      ]
     },
     "execution_count": 67,
     "metadata": {},
     "output_type": "execute_result"
    }
   ],
   "source": [
    "x"
   ]
  },
  {
   "cell_type": "code",
   "execution_count": 68,
   "id": "c1ec82d6",
   "metadata": {},
   "outputs": [
    {
     "data": {
      "text/plain": [
       "tuple"
      ]
     },
     "execution_count": 68,
     "metadata": {},
     "output_type": "execute_result"
    }
   ],
   "source": [
    "type(x)"
   ]
  },
  {
   "cell_type": "code",
   "execution_count": 69,
   "id": "28d95300",
   "metadata": {},
   "outputs": [],
   "source": [
    "r1 = list(range(20))"
   ]
  },
  {
   "cell_type": "code",
   "execution_count": 70,
   "id": "97e034cf",
   "metadata": {},
   "outputs": [
    {
     "data": {
      "text/plain": [
       "[0, 1, 2, 3, 4, 5, 6, 7, 8, 9, 10, 11, 12, 13, 14, 15, 16, 17, 18, 19]"
      ]
     },
     "execution_count": 70,
     "metadata": {},
     "output_type": "execute_result"
    }
   ],
   "source": [
    "r1"
   ]
  },
  {
   "cell_type": "code",
   "execution_count": 71,
   "id": "2b14120f",
   "metadata": {},
   "outputs": [],
   "source": [
    "r2 = list(range(5,25))"
   ]
  },
  {
   "cell_type": "code",
   "execution_count": 72,
   "id": "73866735",
   "metadata": {},
   "outputs": [
    {
     "data": {
      "text/plain": [
       "[5, 6, 7, 8, 9, 10, 11, 12, 13, 14, 15, 16, 17, 18, 19, 20, 21, 22, 23, 24]"
      ]
     },
     "execution_count": 72,
     "metadata": {},
     "output_type": "execute_result"
    }
   ],
   "source": [
    "r2"
   ]
  },
  {
   "cell_type": "code",
   "execution_count": 75,
   "id": "b2893e05",
   "metadata": {},
   "outputs": [],
   "source": [
    "r3 = list(range(5,21,5))"
   ]
  },
  {
   "cell_type": "code",
   "execution_count": 76,
   "id": "32c6fd93",
   "metadata": {},
   "outputs": [
    {
     "data": {
      "text/plain": [
       "[5, 10, 15, 20]"
      ]
     },
     "execution_count": 76,
     "metadata": {},
     "output_type": "execute_result"
    }
   ],
   "source": [
    "r3"
   ]
  },
  {
   "cell_type": "code",
   "execution_count": 94,
   "id": "aaf05e20",
   "metadata": {},
   "outputs": [],
   "source": [
    "#Generate odd sequence using range function\n",
    "# all odd numbers between 1 to 100\n",
    "\n",
    "odd = list(range(1,100,2))"
   ]
  },
  {
   "cell_type": "code",
   "execution_count": 95,
   "id": "efccd971",
   "metadata": {},
   "outputs": [
    {
     "data": {
      "text/plain": [
       "[1,\n",
       " 3,\n",
       " 5,\n",
       " 7,\n",
       " 9,\n",
       " 11,\n",
       " 13,\n",
       " 15,\n",
       " 17,\n",
       " 19,\n",
       " 21,\n",
       " 23,\n",
       " 25,\n",
       " 27,\n",
       " 29,\n",
       " 31,\n",
       " 33,\n",
       " 35,\n",
       " 37,\n",
       " 39,\n",
       " 41,\n",
       " 43,\n",
       " 45,\n",
       " 47,\n",
       " 49,\n",
       " 51,\n",
       " 53,\n",
       " 55,\n",
       " 57,\n",
       " 59,\n",
       " 61,\n",
       " 63,\n",
       " 65,\n",
       " 67,\n",
       " 69,\n",
       " 71,\n",
       " 73,\n",
       " 75,\n",
       " 77,\n",
       " 79,\n",
       " 81,\n",
       " 83,\n",
       " 85,\n",
       " 87,\n",
       " 89,\n",
       " 91,\n",
       " 93,\n",
       " 95,\n",
       " 97,\n",
       " 99]"
      ]
     },
     "execution_count": 95,
     "metadata": {},
     "output_type": "execute_result"
    }
   ],
   "source": [
    "odd"
   ]
  },
  {
   "cell_type": "markdown",
   "id": "a5650266",
   "metadata": {},
   "source": [
    "Sets\n",
    "\n",
    "- Unique collection of immutable items/objects.\n",
    "- syntax: {}\n",
    "\n"
   ]
  },
  {
   "cell_type": "code",
   "execution_count": 77,
   "id": "e6d7a69c",
   "metadata": {},
   "outputs": [],
   "source": [
    "a = {'sun','mon','tue'}"
   ]
  },
  {
   "cell_type": "code",
   "execution_count": 78,
   "id": "0c0e2324",
   "metadata": {},
   "outputs": [
    {
     "data": {
      "text/plain": [
       "{'mon', 'sun', 'tue'}"
      ]
     },
     "execution_count": 78,
     "metadata": {},
     "output_type": "execute_result"
    }
   ],
   "source": [
    "a"
   ]
  },
  {
   "cell_type": "code",
   "execution_count": 79,
   "id": "374de120",
   "metadata": {},
   "outputs": [
    {
     "data": {
      "text/plain": [
       "set"
      ]
     },
     "execution_count": 79,
     "metadata": {},
     "output_type": "execute_result"
    }
   ],
   "source": [
    "type(a)"
   ]
  },
  {
   "cell_type": "code",
   "execution_count": 80,
   "id": "3e9d902a",
   "metadata": {},
   "outputs": [],
   "source": [
    "a = {'sun','mon','tue','sun'}"
   ]
  },
  {
   "cell_type": "code",
   "execution_count": 81,
   "id": "b5886efa",
   "metadata": {},
   "outputs": [
    {
     "data": {
      "text/plain": [
       "{'mon', 'sun', 'tue'}"
      ]
     },
     "execution_count": 81,
     "metadata": {},
     "output_type": "execute_result"
    }
   ],
   "source": [
    "a"
   ]
  },
  {
   "cell_type": "code",
   "execution_count": 82,
   "id": "29e3648b",
   "metadata": {},
   "outputs": [],
   "source": [
    "a.add('wed')"
   ]
  },
  {
   "cell_type": "code",
   "execution_count": 83,
   "id": "72137764",
   "metadata": {},
   "outputs": [
    {
     "data": {
      "text/plain": [
       "{'mon', 'sun', 'tue', 'wed'}"
      ]
     },
     "execution_count": 83,
     "metadata": {},
     "output_type": "execute_result"
    }
   ],
   "source": [
    "a"
   ]
  },
  {
   "cell_type": "code",
   "execution_count": 84,
   "id": "588f2082",
   "metadata": {},
   "outputs": [],
   "source": [
    "b = {'thu','fri','sat'}"
   ]
  },
  {
   "cell_type": "code",
   "execution_count": 85,
   "id": "5304bf5c",
   "metadata": {},
   "outputs": [
    {
     "data": {
      "text/plain": [
       "{'fri', 'sat', 'thu'}"
      ]
     },
     "execution_count": 85,
     "metadata": {},
     "output_type": "execute_result"
    }
   ],
   "source": [
    "b"
   ]
  },
  {
   "cell_type": "code",
   "execution_count": 86,
   "id": "f95c8752",
   "metadata": {},
   "outputs": [
    {
     "data": {
      "text/plain": [
       "{'fri', 'mon', 'sat', 'sun', 'thu', 'tue', 'wed'}"
      ]
     },
     "execution_count": 86,
     "metadata": {},
     "output_type": "execute_result"
    }
   ],
   "source": [
    "a.union(b)"
   ]
  },
  {
   "cell_type": "code",
   "execution_count": 87,
   "id": "3c02d48e",
   "metadata": {},
   "outputs": [],
   "source": [
    "b.add('sun')"
   ]
  },
  {
   "cell_type": "code",
   "execution_count": 88,
   "id": "26959d00",
   "metadata": {},
   "outputs": [
    {
     "data": {
      "text/plain": [
       "{'fri', 'sat', 'sun', 'thu'}"
      ]
     },
     "execution_count": 88,
     "metadata": {},
     "output_type": "execute_result"
    }
   ],
   "source": [
    "b"
   ]
  },
  {
   "cell_type": "code",
   "execution_count": 89,
   "id": "f9bed455",
   "metadata": {},
   "outputs": [
    {
     "data": {
      "text/plain": [
       "{'sun'}"
      ]
     },
     "execution_count": 89,
     "metadata": {},
     "output_type": "execute_result"
    }
   ],
   "source": [
    "a&b"
   ]
  },
  {
   "cell_type": "code",
   "execution_count": null,
   "id": "66ec85d4",
   "metadata": {},
   "outputs": [],
   "source": []
  }
 ],
 "metadata": {
  "kernelspec": {
   "display_name": "Python 3 (ipykernel)",
   "language": "python",
   "name": "python3"
  },
  "language_info": {
   "codemirror_mode": {
    "name": "ipython",
    "version": 3
   },
   "file_extension": ".py",
   "mimetype": "text/x-python",
   "name": "python",
   "nbconvert_exporter": "python",
   "pygments_lexer": "ipython3",
   "version": "3.9.13"
  }
 },
 "nbformat": 4,
 "nbformat_minor": 5
}
