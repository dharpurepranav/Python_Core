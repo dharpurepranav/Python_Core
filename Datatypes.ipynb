{
 "cells": [
  {
   "cell_type": "markdown",
   "id": "a91ac7a4",
   "metadata": {},
   "source": [
    "# Introduction to datatypes"
   ]
  },
  {
   "cell_type": "code",
   "execution_count": 1,
   "id": "37da2731",
   "metadata": {},
   "outputs": [],
   "source": [
    "i = 10\n"
   ]
  },
  {
   "cell_type": "code",
   "execution_count": 2,
   "id": "14b72270",
   "metadata": {},
   "outputs": [
    {
     "data": {
      "text/plain": [
       "int"
      ]
     },
     "execution_count": 2,
     "metadata": {},
     "output_type": "execute_result"
    }
   ],
   "source": [
    "type(i)"
   ]
  },
  {
   "cell_type": "code",
   "execution_count": 3,
   "id": "5dc6ecb0",
   "metadata": {},
   "outputs": [
    {
     "data": {
      "text/plain": [
       "1712812747344"
      ]
     },
     "execution_count": 3,
     "metadata": {},
     "output_type": "execute_result"
    }
   ],
   "source": [
    "id(i)"
   ]
  },
  {
   "cell_type": "code",
   "execution_count": 4,
   "id": "cf999dfc",
   "metadata": {},
   "outputs": [
    {
     "data": {
      "text/plain": [
       "10"
      ]
     },
     "execution_count": 4,
     "metadata": {},
     "output_type": "execute_result"
    }
   ],
   "source": [
    "i"
   ]
  },
  {
   "cell_type": "code",
   "execution_count": 5,
   "id": "93de8432",
   "metadata": {},
   "outputs": [
    {
     "name": "stdout",
     "output_type": "stream",
     "text": [
      "10\n"
     ]
    }
   ],
   "source": [
    "print(i)"
   ]
  },
  {
   "cell_type": "markdown",
   "id": "3c3b1fed",
   "metadata": {},
   "source": [
    "Strings\n",
    "\n",
    "- Strings : a collection of characters\n",
    "- define either by double quotes or single quotes\n",
    "- immutable in nature\n",
    "\n"
   ]
  },
  {
   "cell_type": "code",
   "execution_count": 6,
   "id": "3402d81e",
   "metadata": {},
   "outputs": [],
   "source": [
    "s = \"WELCOME\""
   ]
  },
  {
   "cell_type": "code",
   "execution_count": 7,
   "id": "3d3eb6c8",
   "metadata": {},
   "outputs": [
    {
     "data": {
      "text/plain": [
       "str"
      ]
     },
     "execution_count": 7,
     "metadata": {},
     "output_type": "execute_result"
    }
   ],
   "source": [
    "type(s)"
   ]
  },
  {
   "cell_type": "code",
   "execution_count": 8,
   "id": "dc9bf08c",
   "metadata": {},
   "outputs": [
    {
     "data": {
      "text/plain": [
       "7"
      ]
     },
     "execution_count": 8,
     "metadata": {},
     "output_type": "execute_result"
    }
   ],
   "source": [
    "len(s)"
   ]
  },
  {
   "cell_type": "markdown",
   "id": "d369a62a",
   "metadata": {},
   "source": [
    "Indexing\n"
   ]
  },
  {
   "cell_type": "code",
   "execution_count": 9,
   "id": "8184c8e5",
   "metadata": {},
   "outputs": [
    {
     "data": {
      "text/plain": [
       "'C'"
      ]
     },
     "execution_count": 9,
     "metadata": {},
     "output_type": "execute_result"
    }
   ],
   "source": [
    "s[3]"
   ]
  },
  {
   "cell_type": "code",
   "execution_count": 10,
   "id": "2981f3a0",
   "metadata": {},
   "outputs": [
    {
     "data": {
      "text/plain": [
       "'W'"
      ]
     },
     "execution_count": 10,
     "metadata": {},
     "output_type": "execute_result"
    }
   ],
   "source": [
    "s[0]"
   ]
  },
  {
   "cell_type": "code",
   "execution_count": 11,
   "id": "2a0a05f8",
   "metadata": {},
   "outputs": [
    {
     "data": {
      "text/plain": [
       "'E'"
      ]
     },
     "execution_count": 11,
     "metadata": {},
     "output_type": "execute_result"
    }
   ],
   "source": [
    "#Negative Indexing\n",
    "s[-1]"
   ]
  },
  {
   "cell_type": "code",
   "execution_count": 12,
   "id": "9ac76a7b",
   "metadata": {},
   "outputs": [
    {
     "data": {
      "text/plain": [
       "'O'"
      ]
     },
     "execution_count": 12,
     "metadata": {},
     "output_type": "execute_result"
    }
   ],
   "source": [
    "s[-3]"
   ]
  },
  {
   "cell_type": "markdown",
   "id": "69a601e1",
   "metadata": {},
   "source": [
    "Slicing\n",
    "\n",
    "- extract a substring from a string\n",
    "- syntax:- startpos:endpos:skip count/ direction\n",
    "- startpos included, endpos excluded\n",
    "- slicing always done from left to right"
   ]
  },
  {
   "cell_type": "code",
   "execution_count": 15,
   "id": "ea7301ac",
   "metadata": {},
   "outputs": [
    {
     "data": {
      "text/plain": [
       "'WEL'"
      ]
     },
     "execution_count": 15,
     "metadata": {},
     "output_type": "execute_result"
    }
   ],
   "source": [
    "s[0:3]"
   ]
  },
  {
   "cell_type": "code",
   "execution_count": 16,
   "id": "9035cefa",
   "metadata": {},
   "outputs": [
    {
     "data": {
      "text/plain": [
       "'ELC'"
      ]
     },
     "execution_count": 16,
     "metadata": {},
     "output_type": "execute_result"
    }
   ],
   "source": [
    "s[1:4]"
   ]
  },
  {
   "cell_type": "code",
   "execution_count": 17,
   "id": "ebd186e0",
   "metadata": {},
   "outputs": [
    {
     "data": {
      "text/plain": [
       "'LCOME'"
      ]
     },
     "execution_count": 17,
     "metadata": {},
     "output_type": "execute_result"
    }
   ],
   "source": [
    "s[2:]"
   ]
  },
  {
   "cell_type": "code",
   "execution_count": 18,
   "id": "ba8453cb",
   "metadata": {},
   "outputs": [
    {
     "data": {
      "text/plain": [
       "'WELC'"
      ]
     },
     "execution_count": 18,
     "metadata": {},
     "output_type": "execute_result"
    }
   ],
   "source": [
    "s[:4]"
   ]
  },
  {
   "cell_type": "code",
   "execution_count": 19,
   "id": "94596415",
   "metadata": {},
   "outputs": [
    {
     "data": {
      "text/plain": [
       "'WELCOME'"
      ]
     },
     "execution_count": 19,
     "metadata": {},
     "output_type": "execute_result"
    }
   ],
   "source": [
    "s[:]"
   ]
  },
  {
   "cell_type": "code",
   "execution_count": 20,
   "id": "5fca20a0",
   "metadata": {},
   "outputs": [
    {
     "data": {
      "text/plain": [
       "'EMOCLEW'"
      ]
     },
     "execution_count": 20,
     "metadata": {},
     "output_type": "execute_result"
    }
   ],
   "source": [
    "s[::-1]"
   ]
  },
  {
   "cell_type": "code",
   "execution_count": 21,
   "id": "9ea7de64",
   "metadata": {},
   "outputs": [
    {
     "data": {
      "text/plain": [
       "'OM'"
      ]
     },
     "execution_count": 21,
     "metadata": {},
     "output_type": "execute_result"
    }
   ],
   "source": [
    "s[-3:-1]"
   ]
  },
  {
   "cell_type": "code",
   "execution_count": 22,
   "id": "cfa0ad31",
   "metadata": {},
   "outputs": [
    {
     "data": {
      "text/plain": [
       "'WELCOME'"
      ]
     },
     "execution_count": 22,
     "metadata": {},
     "output_type": "execute_result"
    }
   ],
   "source": [
    "s"
   ]
  },
  {
   "cell_type": "code",
   "execution_count": 23,
   "id": "0b4d74d6",
   "metadata": {},
   "outputs": [
    {
     "data": {
      "text/plain": [
       "'WCE'"
      ]
     },
     "execution_count": 23,
     "metadata": {},
     "output_type": "execute_result"
    }
   ],
   "source": [
    "s[::3]"
   ]
  },
  {
   "cell_type": "code",
   "execution_count": 24,
   "id": "3fccd4b6",
   "metadata": {},
   "outputs": [
    {
     "data": {
      "text/plain": [
       "'WO'"
      ]
     },
     "execution_count": 24,
     "metadata": {},
     "output_type": "execute_result"
    }
   ],
   "source": [
    "s[::4]"
   ]
  },
  {
   "cell_type": "code",
   "execution_count": 25,
   "id": "87c86285",
   "metadata": {},
   "outputs": [
    {
     "data": {
      "text/plain": [
       "''"
      ]
     },
     "execution_count": 25,
     "metadata": {},
     "output_type": "execute_result"
    }
   ],
   "source": [
    "s[-1:-3]"
   ]
  },
  {
   "cell_type": "code",
   "execution_count": 26,
   "id": "f260d455",
   "metadata": {},
   "outputs": [
    {
     "data": {
      "text/plain": [
       "'EM'"
      ]
     },
     "execution_count": 26,
     "metadata": {},
     "output_type": "execute_result"
    }
   ],
   "source": [
    "s[-1:-3:-1]"
   ]
  },
  {
   "cell_type": "code",
   "execution_count": 27,
   "id": "2c7b1d34",
   "metadata": {},
   "outputs": [
    {
     "data": {
      "text/plain": [
       "'wELCOME'"
      ]
     },
     "execution_count": 27,
     "metadata": {},
     "output_type": "execute_result"
    }
   ],
   "source": [
    "s.replace(\"W\",\"w\")"
   ]
  },
  {
   "cell_type": "code",
   "execution_count": 28,
   "id": "5959fdab",
   "metadata": {},
   "outputs": [
    {
     "data": {
      "text/plain": [
       "3"
      ]
     },
     "execution_count": 28,
     "metadata": {},
     "output_type": "execute_result"
    }
   ],
   "source": [
    "s.index(\"C\")"
   ]
  },
  {
   "cell_type": "code",
   "execution_count": 29,
   "id": "8c0b55f8",
   "metadata": {},
   "outputs": [
    {
     "data": {
      "text/plain": [
       "'onnurenne'"
      ]
     },
     "execution_count": 29,
     "metadata": {},
     "output_type": "execute_result"
    }
   ],
   "source": [
    "letter = \"occurence\"\n",
    "letter.replace(\"c\",\"n\")"
   ]
  },
  {
   "cell_type": "code",
   "execution_count": 1,
   "id": "4bc16e9a",
   "metadata": {},
   "outputs": [],
   "source": [
    "# shift+tab+tab for docstring (Explanation of function)"
   ]
  },
  {
   "cell_type": "code",
   "execution_count": 2,
   "id": "cc50f481",
   "metadata": {},
   "outputs": [],
   "source": [
    "f = 3.142"
   ]
  },
  {
   "cell_type": "code",
   "execution_count": 3,
   "id": "48250e25",
   "metadata": {},
   "outputs": [
    {
     "data": {
      "text/plain": [
       "float"
      ]
     },
     "execution_count": 3,
     "metadata": {},
     "output_type": "execute_result"
    }
   ],
   "source": [
    "type(f)"
   ]
  },
  {
   "cell_type": "code",
   "execution_count": 7,
   "id": "497561b7",
   "metadata": {},
   "outputs": [],
   "source": [
    "a = True"
   ]
  },
  {
   "cell_type": "code",
   "execution_count": 8,
   "id": "21e2d8b7",
   "metadata": {},
   "outputs": [
    {
     "data": {
      "text/plain": [
       "bool"
      ]
     },
     "execution_count": 8,
     "metadata": {},
     "output_type": "execute_result"
    }
   ],
   "source": [
    "type(a)"
   ]
  },
  {
   "cell_type": "code",
   "execution_count": 9,
   "id": "c52e8cc6",
   "metadata": {},
   "outputs": [],
   "source": [
    "b = 3+5j"
   ]
  },
  {
   "cell_type": "code",
   "execution_count": 10,
   "id": "9ab42a4e",
   "metadata": {},
   "outputs": [
    {
     "data": {
      "text/plain": [
       "complex"
      ]
     },
     "execution_count": 10,
     "metadata": {},
     "output_type": "execute_result"
    }
   ],
   "source": [
    "type(b)"
   ]
  },
  {
   "cell_type": "markdown",
   "id": "6170f67d",
   "metadata": {},
   "source": [
    "# List"
   ]
  },
  {
   "cell_type": "markdown",
   "id": "52a5d984",
   "metadata": {},
   "source": [
    "\n",
    "- Ordered collection of objects/items/elements\n",
    "- []\n",
    "- Mutable in nature"
   ]
  },
  {
   "cell_type": "code",
   "execution_count": 31,
   "id": "269095bc",
   "metadata": {},
   "outputs": [],
   "source": [
    "languages = [\"C\", \"CPP\", \"Java\", \"C#\"]"
   ]
  },
  {
   "cell_type": "code",
   "execution_count": 32,
   "id": "19b1d62f",
   "metadata": {},
   "outputs": [
    {
     "data": {
      "text/plain": [
       "['C', 'CPP', 'Java', 'C#']"
      ]
     },
     "execution_count": 32,
     "metadata": {},
     "output_type": "execute_result"
    }
   ],
   "source": [
    "languages"
   ]
  },
  {
   "cell_type": "code",
   "execution_count": 33,
   "id": "b4c86a7d",
   "metadata": {},
   "outputs": [
    {
     "data": {
      "text/plain": [
       "list"
      ]
     },
     "execution_count": 33,
     "metadata": {},
     "output_type": "execute_result"
    }
   ],
   "source": [
    "type(languages)"
   ]
  },
  {
   "cell_type": "code",
   "execution_count": 34,
   "id": "972570f1",
   "metadata": {},
   "outputs": [
    {
     "data": {
      "text/plain": [
       "'C#'"
      ]
     },
     "execution_count": 34,
     "metadata": {},
     "output_type": "execute_result"
    }
   ],
   "source": [
    "languages[3]"
   ]
  },
  {
   "cell_type": "code",
   "execution_count": 35,
   "id": "c30f4c44",
   "metadata": {},
   "outputs": [
    {
     "data": {
      "text/plain": [
       "['CPP', 'Java', 'C#']"
      ]
     },
     "execution_count": 35,
     "metadata": {},
     "output_type": "execute_result"
    }
   ],
   "source": [
    "languages[1:4]"
   ]
  },
  {
   "cell_type": "code",
   "execution_count": 36,
   "id": "8f3aa631",
   "metadata": {},
   "outputs": [
    {
     "data": {
      "text/plain": [
       "'Java'"
      ]
     },
     "execution_count": 36,
     "metadata": {},
     "output_type": "execute_result"
    }
   ],
   "source": [
    "languages[2]"
   ]
  },
  {
   "cell_type": "code",
   "execution_count": 37,
   "id": "deb69043",
   "metadata": {},
   "outputs": [
    {
     "data": {
      "text/plain": [
       "'J'"
      ]
     },
     "execution_count": 37,
     "metadata": {},
     "output_type": "execute_result"
    }
   ],
   "source": [
    "languages[2][0]"
   ]
  },
  {
   "cell_type": "code",
   "execution_count": 38,
   "id": "ee39d5a9",
   "metadata": {},
   "outputs": [],
   "source": [
    "languages[3] = [\"python\",\"scipy\",\"pandas\"]"
   ]
  },
  {
   "cell_type": "code",
   "execution_count": 39,
   "id": "4d2c89ed",
   "metadata": {},
   "outputs": [
    {
     "data": {
      "text/plain": [
       "['C', 'CPP', 'Java', ['python', 'scipy', 'pandas']]"
      ]
     },
     "execution_count": 39,
     "metadata": {},
     "output_type": "execute_result"
    }
   ],
   "source": [
    "languages"
   ]
  },
  {
   "cell_type": "code",
   "execution_count": 40,
   "id": "78860329",
   "metadata": {},
   "outputs": [
    {
     "data": {
      "text/plain": [
       "'scipy'"
      ]
     },
     "execution_count": 40,
     "metadata": {},
     "output_type": "execute_result"
    }
   ],
   "source": [
    "languages[3][1]"
   ]
  },
  {
   "cell_type": "code",
   "execution_count": 41,
   "id": "b4afea8e",
   "metadata": {},
   "outputs": [
    {
     "data": {
      "text/plain": [
       "'p'"
      ]
     },
     "execution_count": 41,
     "metadata": {},
     "output_type": "execute_result"
    }
   ],
   "source": [
    "languages[3][2][0]"
   ]
  },
  {
   "cell_type": "markdown",
   "id": "a9e40331",
   "metadata": {},
   "source": [
    "# List Operations\n"
   ]
  },
  {
   "cell_type": "markdown",
   "id": "0f830628",
   "metadata": {},
   "source": [
    "Append\n",
    "- it always adds an elemnt/onjext at the end of the list"
   ]
  },
  {
   "cell_type": "code",
   "execution_count": 12,
   "id": "2503a1d1",
   "metadata": {},
   "outputs": [],
   "source": [
    "languages = [\"CPP\",\"Java\",\"C#\"]"
   ]
  },
  {
   "cell_type": "code",
   "execution_count": 13,
   "id": "f24a8b77",
   "metadata": {},
   "outputs": [
    {
     "data": {
      "text/plain": [
       "list"
      ]
     },
     "execution_count": 13,
     "metadata": {},
     "output_type": "execute_result"
    }
   ],
   "source": [
    "type(languages)"
   ]
  },
  {
   "cell_type": "code",
   "execution_count": 14,
   "id": "d8fa4100",
   "metadata": {},
   "outputs": [],
   "source": [
    "languages.append(\"Python\")"
   ]
  },
  {
   "cell_type": "code",
   "execution_count": 15,
   "id": "9c2faba6",
   "metadata": {},
   "outputs": [
    {
     "data": {
      "text/plain": [
       "['CPP', 'Java', 'C#', 'Python']"
      ]
     },
     "execution_count": 15,
     "metadata": {},
     "output_type": "execute_result"
    }
   ],
   "source": [
    "languages"
   ]
  },
  {
   "cell_type": "markdown",
   "id": "76cb3394",
   "metadata": {},
   "source": [
    "Insert:\n",
    "- it adds/insert an element at specified position/index"
   ]
  },
  {
   "cell_type": "code",
   "execution_count": 16,
   "id": "99826b2e",
   "metadata": {},
   "outputs": [],
   "source": [
    "languages.insert(2,\"Perl\")"
   ]
  },
  {
   "cell_type": "code",
   "execution_count": 17,
   "id": "d3e54ec8",
   "metadata": {},
   "outputs": [
    {
     "data": {
      "text/plain": [
       "['CPP', 'Java', 'Perl', 'C#', 'Python']"
      ]
     },
     "execution_count": 17,
     "metadata": {},
     "output_type": "execute_result"
    }
   ],
   "source": [
    "languages"
   ]
  },
  {
   "cell_type": "code",
   "execution_count": 18,
   "id": "e8a0a219",
   "metadata": {},
   "outputs": [],
   "source": [
    "languages.insert(-1,\"Ruby\")"
   ]
  },
  {
   "cell_type": "code",
   "execution_count": 19,
   "id": "9824fd55",
   "metadata": {},
   "outputs": [
    {
     "data": {
      "text/plain": [
       "['CPP', 'Java', 'Perl', 'C#', 'Ruby', 'Python']"
      ]
     },
     "execution_count": 19,
     "metadata": {},
     "output_type": "execute_result"
    }
   ],
   "source": [
    "languages"
   ]
  },
  {
   "cell_type": "code",
   "execution_count": 20,
   "id": "eff79eba",
   "metadata": {},
   "outputs": [],
   "source": [
    "languages.insert(-2,\"R\")"
   ]
  },
  {
   "cell_type": "code",
   "execution_count": 21,
   "id": "bce5dbb6",
   "metadata": {},
   "outputs": [
    {
     "data": {
      "text/plain": [
       "['CPP', 'Java', 'Perl', 'C#', 'R', 'Ruby', 'Python']"
      ]
     },
     "execution_count": 21,
     "metadata": {},
     "output_type": "execute_result"
    }
   ],
   "source": [
    "languages"
   ]
  },
  {
   "cell_type": "markdown",
   "id": "e2d268d7",
   "metadata": {},
   "source": [
    "Remove:\n",
    "- it removes an element based on value"
   ]
  },
  {
   "cell_type": "code",
   "execution_count": 22,
   "id": "ed1e1c79",
   "metadata": {},
   "outputs": [],
   "source": [
    "languages.remove(\"Perl\")"
   ]
  },
  {
   "cell_type": "code",
   "execution_count": 23,
   "id": "5744a195",
   "metadata": {},
   "outputs": [
    {
     "data": {
      "text/plain": [
       "['CPP', 'Java', 'C#', 'R', 'Ruby', 'Python']"
      ]
     },
     "execution_count": 23,
     "metadata": {},
     "output_type": "execute_result"
    }
   ],
   "source": [
    "languages"
   ]
  },
  {
   "cell_type": "markdown",
   "id": "3e880591",
   "metadata": {},
   "source": [
    "Pop:\n",
    "- it removes an element based on index, by default index is -1"
   ]
  },
  {
   "cell_type": "code",
   "execution_count": 24,
   "id": "bb998f13",
   "metadata": {},
   "outputs": [
    {
     "data": {
      "text/plain": [
       "'Java'"
      ]
     },
     "execution_count": 24,
     "metadata": {},
     "output_type": "execute_result"
    }
   ],
   "source": [
    "languages.pop(1)"
   ]
  },
  {
   "cell_type": "code",
   "execution_count": 25,
   "id": "5da463cd",
   "metadata": {},
   "outputs": [
    {
     "data": {
      "text/plain": [
       "['CPP', 'C#', 'R', 'Ruby', 'Python']"
      ]
     },
     "execution_count": 25,
     "metadata": {},
     "output_type": "execute_result"
    }
   ],
   "source": [
    "languages"
   ]
  },
  {
   "cell_type": "markdown",
   "id": "d6d68a4a",
   "metadata": {},
   "source": [
    "Del Keyword:"
   ]
  },
  {
   "cell_type": "code",
   "execution_count": 26,
   "id": "ef5b6758",
   "metadata": {},
   "outputs": [],
   "source": [
    " del languages[1]"
   ]
  },
  {
   "cell_type": "code",
   "execution_count": 27,
   "id": "fed1cb1e",
   "metadata": {},
   "outputs": [
    {
     "data": {
      "text/plain": [
       "['CPP', 'R', 'Ruby', 'Python']"
      ]
     },
     "execution_count": 27,
     "metadata": {},
     "output_type": "execute_result"
    }
   ],
   "source": [
    "languages"
   ]
  },
  {
   "cell_type": "code",
   "execution_count": 28,
   "id": "ee703889",
   "metadata": {},
   "outputs": [],
   "source": [
    "del languages[:3]"
   ]
  },
  {
   "cell_type": "code",
   "execution_count": 29,
   "id": "0b954c32",
   "metadata": {},
   "outputs": [
    {
     "data": {
      "text/plain": [
       "['Python']"
      ]
     },
     "execution_count": 29,
     "metadata": {},
     "output_type": "execute_result"
    }
   ],
   "source": [
    "languages"
   ]
  },
  {
   "cell_type": "code",
   "execution_count": 30,
   "id": "0b86614c",
   "metadata": {},
   "outputs": [],
   "source": [
    "# Append using list"
   ]
  },
  {
   "cell_type": "code",
   "execution_count": 31,
   "id": "dd418b98",
   "metadata": {},
   "outputs": [],
   "source": [
    "languages.append(\"C\")\n",
    "languages.append(\"Perl\")\n",
    "languages.append(\"VB\")\n",
    "languages.append(\"VC\")"
   ]
  },
  {
   "cell_type": "code",
   "execution_count": 32,
   "id": "1213efbe",
   "metadata": {},
   "outputs": [
    {
     "data": {
      "text/plain": [
       "['Python', 'C', 'Perl', 'VB', 'VC']"
      ]
     },
     "execution_count": 32,
     "metadata": {},
     "output_type": "execute_result"
    }
   ],
   "source": [
    "languages"
   ]
  },
  {
   "cell_type": "code",
   "execution_count": 33,
   "id": "1956b104",
   "metadata": {},
   "outputs": [],
   "source": [
    " nums = [100,200,300,400]"
   ]
  },
  {
   "cell_type": "code",
   "execution_count": 34,
   "id": "9a9e459c",
   "metadata": {},
   "outputs": [],
   "source": [
    "languages.append(nums)"
   ]
  },
  {
   "cell_type": "code",
   "execution_count": 35,
   "id": "010dbef6",
   "metadata": {},
   "outputs": [
    {
     "data": {
      "text/plain": [
       "['Python', 'C', 'Perl', 'VB', 'VC', [100, 200, 300, 400]]"
      ]
     },
     "execution_count": 35,
     "metadata": {},
     "output_type": "execute_result"
    }
   ],
   "source": [
    "languages"
   ]
  },
  {
   "cell_type": "code",
   "execution_count": 36,
   "id": "6a245382",
   "metadata": {},
   "outputs": [
    {
     "data": {
      "text/plain": [
       "200"
      ]
     },
     "execution_count": 36,
     "metadata": {},
     "output_type": "execute_result"
    }
   ],
   "source": [
    "languages[-1][1]"
   ]
  },
  {
   "cell_type": "code",
   "execution_count": 37,
   "id": "72649ceb",
   "metadata": {},
   "outputs": [],
   "source": [
    "s = \"WELCOME\"\n",
    "languages.append(s)"
   ]
  },
  {
   "cell_type": "code",
   "execution_count": 38,
   "id": "2d310f94",
   "metadata": {},
   "outputs": [
    {
     "data": {
      "text/plain": [
       "['Python', 'C', 'Perl', 'VB', 'VC', [100, 200, 300, 400], 'WELCOME']"
      ]
     },
     "execution_count": 38,
     "metadata": {},
     "output_type": "execute_result"
    }
   ],
   "source": [
    "languages"
   ]
  },
  {
   "cell_type": "code",
   "execution_count": 41,
   "id": "4f445c1d",
   "metadata": {},
   "outputs": [
    {
     "data": {
      "text/plain": [
       "[100, 200, 300, 400]"
      ]
     },
     "execution_count": 41,
     "metadata": {},
     "output_type": "execute_result"
    }
   ],
   "source": [
    "languages.pop()"
   ]
  },
  {
   "cell_type": "code",
   "execution_count": 42,
   "id": "eeb1592c",
   "metadata": {},
   "outputs": [
    {
     "data": {
      "text/plain": [
       "['Python', 'C', 'Perl', 'VB', 'VC']"
      ]
     },
     "execution_count": 42,
     "metadata": {},
     "output_type": "execute_result"
    }
   ],
   "source": [
    "languages"
   ]
  },
  {
   "cell_type": "markdown",
   "id": "715da728",
   "metadata": {},
   "source": [
    "Extend:\n",
    "- Extend the list with elements for the container/object passed\n",
    "- Increases the length of the list by length of the object used to extend"
   ]
  },
  {
   "cell_type": "code",
   "execution_count": 43,
   "id": "09c98315",
   "metadata": {},
   "outputs": [],
   "source": [
    "languages.extend(nums)"
   ]
  },
  {
   "cell_type": "code",
   "execution_count": 44,
   "id": "f1dc3ec8",
   "metadata": {},
   "outputs": [
    {
     "data": {
      "text/plain": [
       "['Python', 'C', 'Perl', 'VB', 'VC', 100, 200, 300, 400]"
      ]
     },
     "execution_count": 44,
     "metadata": {},
     "output_type": "execute_result"
    }
   ],
   "source": [
    "languages"
   ]
  },
  {
   "cell_type": "code",
   "execution_count": 46,
   "id": "de0ada29",
   "metadata": {},
   "outputs": [],
   "source": [
    "another_list = ['TCS','InFY','IBM']"
   ]
  },
  {
   "cell_type": "code",
   "execution_count": 47,
   "id": "263e0dbe",
   "metadata": {},
   "outputs": [],
   "source": [
    "languages.extend(another_list)"
   ]
  },
  {
   "cell_type": "code",
   "execution_count": 48,
   "id": "240d4714",
   "metadata": {},
   "outputs": [
    {
     "data": {
      "text/plain": [
       "['Python', 'C', 'Perl', 'VB', 'VC', 100, 200, 300, 400, 'TCS', 'InFY', 'IBM']"
      ]
     },
     "execution_count": 48,
     "metadata": {},
     "output_type": "execute_result"
    }
   ],
   "source": [
    "languages"
   ]
  },
  {
   "cell_type": "code",
   "execution_count": 49,
   "id": "2b8506b9",
   "metadata": {},
   "outputs": [
    {
     "name": "stdout",
     "output_type": "stream",
     "text": [
      "Help on method_descriptor:\n",
      "\n",
      "extend(self, iterable, /)\n",
      "    Extend list by appending elements from the iterable.\n",
      "\n"
     ]
    }
   ],
   "source": [
    "help(list.extend)"
   ]
  },
  {
   "cell_type": "code",
   "execution_count": 50,
   "id": "c0dc233a",
   "metadata": {},
   "outputs": [
    {
     "data": {
      "text/plain": [
       "1"
      ]
     },
     "execution_count": 50,
     "metadata": {},
     "output_type": "execute_result"
    }
   ],
   "source": [
    "languages.count(\"VB\")"
   ]
  },
  {
   "cell_type": "code",
   "execution_count": 52,
   "id": "49cf881c",
   "metadata": {},
   "outputs": [
    {
     "data": {
      "text/plain": [
       "1"
      ]
     },
     "execution_count": 52,
     "metadata": {},
     "output_type": "execute_result"
    }
   ],
   "source": [
    "languages.count(\"C\")"
   ]
  },
  {
   "cell_type": "code",
   "execution_count": 53,
   "id": "091c35a1",
   "metadata": {},
   "outputs": [
    {
     "data": {
      "text/plain": [
       "1"
      ]
     },
     "execution_count": 53,
     "metadata": {},
     "output_type": "execute_result"
    }
   ],
   "source": [
    "languages.count(100)"
   ]
  },
  {
   "cell_type": "code",
   "execution_count": 54,
   "id": "a6d3a443",
   "metadata": {},
   "outputs": [
    {
     "data": {
      "text/plain": [
       "9"
      ]
     },
     "execution_count": 54,
     "metadata": {},
     "output_type": "execute_result"
    }
   ],
   "source": [
    "languages.index(\"TCS\")"
   ]
  },
  {
   "cell_type": "code",
   "execution_count": 55,
   "id": "c52c4703",
   "metadata": {},
   "outputs": [
    {
     "data": {
      "text/plain": [
       "6"
      ]
     },
     "execution_count": 55,
     "metadata": {},
     "output_type": "execute_result"
    }
   ],
   "source": [
    "languages.index(200)"
   ]
  },
  {
   "cell_type": "markdown",
   "id": "22d15410",
   "metadata": {},
   "source": [
    "# Mutable Vs Immutable"
   ]
  },
  {
   "cell_type": "code",
   "execution_count": 56,
   "id": "ef4112fe",
   "metadata": {},
   "outputs": [
    {
     "data": {
      "text/plain": [
       "'WELCOME'"
      ]
     },
     "execution_count": 56,
     "metadata": {},
     "output_type": "execute_result"
    }
   ],
   "source": [
    "s"
   ]
  },
  {
   "cell_type": "code",
   "execution_count": 59,
   "id": "2d831fed",
   "metadata": {},
   "outputs": [],
   "source": [
    "languages = [\"Python\",\"Perl\",\"Ruby\"]"
   ]
  },
  {
   "cell_type": "code",
   "execution_count": 60,
   "id": "60888284",
   "metadata": {},
   "outputs": [
    {
     "data": {
      "text/plain": [
       "['Python', 'Perl', 'Ruby']"
      ]
     },
     "execution_count": 60,
     "metadata": {},
     "output_type": "execute_result"
    }
   ],
   "source": [
    "languages"
   ]
  },
  {
   "cell_type": "code",
   "execution_count": 61,
   "id": "f8d34a33",
   "metadata": {},
   "outputs": [],
   "source": [
    "languages[0] = \"Java\""
   ]
  },
  {
   "cell_type": "code",
   "execution_count": 62,
   "id": "318d73b5",
   "metadata": {},
   "outputs": [
    {
     "data": {
      "text/plain": [
       "['Java', 'Perl', 'Ruby']"
      ]
     },
     "execution_count": 62,
     "metadata": {},
     "output_type": "execute_result"
    }
   ],
   "source": [
    "languages"
   ]
  },
  {
   "cell_type": "code",
   "execution_count": 63,
   "id": "043460e4",
   "metadata": {},
   "outputs": [
    {
     "data": {
      "text/plain": [
       "'W'"
      ]
     },
     "execution_count": 63,
     "metadata": {},
     "output_type": "execute_result"
    }
   ],
   "source": [
    "s[0]"
   ]
  },
  {
   "cell_type": "code",
   "execution_count": 64,
   "id": "c47a5c44",
   "metadata": {},
   "outputs": [
    {
     "ename": "TypeError",
     "evalue": "'str' object does not support item assignment",
     "output_type": "error",
     "traceback": [
      "\u001b[1;31m---------------------------------------------------------------------------\u001b[0m",
      "\u001b[1;31mTypeError\u001b[0m                                 Traceback (most recent call last)",
      "Cell \u001b[1;32mIn [64], line 1\u001b[0m\n\u001b[1;32m----> 1\u001b[0m \u001b[43ms\u001b[49m\u001b[43m[\u001b[49m\u001b[38;5;241;43m1\u001b[39;49m\u001b[43m]\u001b[49m \u001b[38;5;241m=\u001b[39m \u001b[38;5;124m\"\u001b[39m\u001b[38;5;124mA\u001b[39m\u001b[38;5;124m\"\u001b[39m\n",
      "\u001b[1;31mTypeError\u001b[0m: 'str' object does not support item assignment"
     ]
    }
   ],
   "source": [
    "s[1] = \"A\""
   ]
  },
  {
   "cell_type": "code",
   "execution_count": 65,
   "id": "efd1fd17",
   "metadata": {},
   "outputs": [],
   "source": [
    "#Mutable:- lists,dicts,set\n",
    "#Immutable:- strings,tuples,int,float,bool"
   ]
  },
  {
   "cell_type": "code",
   "execution_count": 66,
   "id": "b59e13ca",
   "metadata": {},
   "outputs": [
    {
     "data": {
      "text/plain": [
       "['Java', 'Perl', 'Ruby']"
      ]
     },
     "execution_count": 66,
     "metadata": {},
     "output_type": "execute_result"
    }
   ],
   "source": [
    "languages"
   ]
  },
  {
   "cell_type": "markdown",
   "id": "90df23e3",
   "metadata": {},
   "source": [
    "Sort"
   ]
  },
  {
   "cell_type": "code",
   "execution_count": 67,
   "id": "751cec8c",
   "metadata": {},
   "outputs": [
    {
     "data": {
      "text/plain": [
       "['Java', 'Perl', 'Ruby']"
      ]
     },
     "execution_count": 67,
     "metadata": {},
     "output_type": "execute_result"
    }
   ],
   "source": [
    "languages"
   ]
  },
  {
   "cell_type": "code",
   "execution_count": 68,
   "id": "39c0547c",
   "metadata": {},
   "outputs": [],
   "source": [
    "languages.append(\"C\")"
   ]
  },
  {
   "cell_type": "code",
   "execution_count": 69,
   "id": "03ed68bc",
   "metadata": {},
   "outputs": [
    {
     "data": {
      "text/plain": [
       "['Java', 'Perl', 'Ruby', 'C']"
      ]
     },
     "execution_count": 69,
     "metadata": {},
     "output_type": "execute_result"
    }
   ],
   "source": [
    "languages"
   ]
  },
  {
   "cell_type": "code",
   "execution_count": 71,
   "id": "2a6adba1",
   "metadata": {},
   "outputs": [],
   "source": [
    "languages.sort()"
   ]
  },
  {
   "cell_type": "code",
   "execution_count": 72,
   "id": "0f746ca6",
   "metadata": {},
   "outputs": [
    {
     "data": {
      "text/plain": [
       "['C', 'Java', 'Perl', 'Ruby']"
      ]
     },
     "execution_count": 72,
     "metadata": {},
     "output_type": "execute_result"
    }
   ],
   "source": [
    "languages"
   ]
  },
  {
   "cell_type": "code",
   "execution_count": 73,
   "id": "d932c9a2",
   "metadata": {},
   "outputs": [
    {
     "name": "stdout",
     "output_type": "stream",
     "text": [
      "Original: [200, 500, 300]\n",
      "Sorted: [200, 300, 500]\n"
     ]
    }
   ],
   "source": [
    "nums = [200,500,300]\n",
    "print(\"Original:\",nums)\n",
    "nums.sort()\n",
    "print(\"Sorted:\",nums)"
   ]
  },
  {
   "cell_type": "markdown",
   "id": "b12f07c5",
   "metadata": {},
   "source": [
    "Tuples\n",
    "- ordered collection of items\n",
    "- syntax ()\n",
    "- immutable"
   ]
  },
  {
   "cell_type": "code",
   "execution_count": 74,
   "id": "71c8bc7a",
   "metadata": {},
   "outputs": [],
   "source": [
    "vaccines = (\"Covaxin\",\"Covishield\",\"Sputnik\")"
   ]
  },
  {
   "cell_type": "code",
   "execution_count": 75,
   "id": "a4b289fc",
   "metadata": {},
   "outputs": [
    {
     "data": {
      "text/plain": [
       "tuple"
      ]
     },
     "execution_count": 75,
     "metadata": {},
     "output_type": "execute_result"
    }
   ],
   "source": [
    "type(vaccines)"
   ]
  },
  {
   "cell_type": "code",
   "execution_count": 77,
   "id": "4186e7e7",
   "metadata": {},
   "outputs": [
    {
     "data": {
      "text/plain": [
       "3"
      ]
     },
     "execution_count": 77,
     "metadata": {},
     "output_type": "execute_result"
    }
   ],
   "source": [
    "len(vaccines)"
   ]
  },
  {
   "cell_type": "code",
   "execution_count": 1,
   "id": "9b1c35d5",
   "metadata": {},
   "outputs": [
    {
     "ename": "NameError",
     "evalue": "name 'vaccines' is not defined",
     "output_type": "error",
     "traceback": [
      "\u001b[1;31m---------------------------------------------------------------------------\u001b[0m",
      "\u001b[1;31mNameError\u001b[0m                                 Traceback (most recent call last)",
      "Cell \u001b[1;32mIn [1], line 1\u001b[0m\n\u001b[1;32m----> 1\u001b[0m \u001b[43mvaccines\u001b[49m[\u001b[38;5;241m0\u001b[39m] \u001b[38;5;241m=\u001b[39m \u001b[38;5;124m\"\u001b[39m\u001b[38;5;124mPfizer\u001b[39m\u001b[38;5;124m\"\u001b[39m\n",
      "\u001b[1;31mNameError\u001b[0m: name 'vaccines' is not defined"
     ]
    }
   ],
   "source": [
    "vaccines[0] = \"Pfizer\"\n",
    "#it will give error since tuple is immutable"
   ]
  },
  {
   "cell_type": "markdown",
   "id": "048dd6a8",
   "metadata": {},
   "source": [
    "Packing"
   ]
  },
  {
   "cell_type": "code",
   "execution_count": 2,
   "id": "b2c6844a",
   "metadata": {},
   "outputs": [],
   "source": [
    "rs = \"Rohit\",34,\"MI\""
   ]
  },
  {
   "cell_type": "code",
   "execution_count": 3,
   "id": "9f159d5d",
   "metadata": {},
   "outputs": [
    {
     "data": {
      "text/plain": [
       "('Rohit', 34, 'MI')"
      ]
     },
     "execution_count": 3,
     "metadata": {},
     "output_type": "execute_result"
    }
   ],
   "source": [
    "rs"
   ]
  },
  {
   "cell_type": "code",
   "execution_count": 4,
   "id": "84f42678",
   "metadata": {},
   "outputs": [
    {
     "name": "stdout",
     "output_type": "stream",
     "text": [
      "<class 'tuple'>\n"
     ]
    }
   ],
   "source": [
    "print(type(rs))"
   ]
  },
  {
   "cell_type": "code",
   "execution_count": 5,
   "id": "f8de5adf",
   "metadata": {},
   "outputs": [],
   "source": [
    "name, age, franchisee = \"Virat\", 33, \"RCB\""
   ]
  },
  {
   "cell_type": "code",
   "execution_count": 6,
   "id": "622f37fd",
   "metadata": {},
   "outputs": [
    {
     "data": {
      "text/plain": [
       "'Virat'"
      ]
     },
     "execution_count": 6,
     "metadata": {},
     "output_type": "execute_result"
    }
   ],
   "source": [
    "name"
   ]
  },
  {
   "cell_type": "code",
   "execution_count": 7,
   "id": "3cf6d7bb",
   "metadata": {},
   "outputs": [
    {
     "data": {
      "text/plain": [
       "33"
      ]
     },
     "execution_count": 7,
     "metadata": {},
     "output_type": "execute_result"
    }
   ],
   "source": [
    "age"
   ]
  },
  {
   "cell_type": "code",
   "execution_count": 8,
   "id": "59daf73c",
   "metadata": {},
   "outputs": [
    {
     "name": "stdout",
     "output_type": "stream",
     "text": [
      "<class 'str'>\n"
     ]
    }
   ],
   "source": [
    "print(type(name))"
   ]
  },
  {
   "cell_type": "code",
   "execution_count": 9,
   "id": "d79f8377",
   "metadata": {},
   "outputs": [
    {
     "data": {
      "text/plain": [
       "1990379069568"
      ]
     },
     "execution_count": 9,
     "metadata": {},
     "output_type": "execute_result"
    }
   ],
   "source": [
    "id(rs)"
   ]
  },
  {
   "cell_type": "code",
   "execution_count": 10,
   "id": "5ec4e553",
   "metadata": {},
   "outputs": [
    {
     "data": {
      "text/plain": [
       "1990379229552"
      ]
     },
     "execution_count": 10,
     "metadata": {},
     "output_type": "execute_result"
    }
   ],
   "source": [
    "id(name)"
   ]
  },
  {
   "cell_type": "code",
   "execution_count": 11,
   "id": "86f0246e",
   "metadata": {},
   "outputs": [
    {
     "data": {
      "text/plain": [
       "1990271986992"
      ]
     },
     "execution_count": 11,
     "metadata": {},
     "output_type": "execute_result"
    }
   ],
   "source": [
    "id(age)"
   ]
  },
  {
   "cell_type": "code",
   "execution_count": 12,
   "id": "6307081c",
   "metadata": {},
   "outputs": [
    {
     "data": {
      "text/plain": [
       "1990378225456"
      ]
     },
     "execution_count": 12,
     "metadata": {},
     "output_type": "execute_result"
    }
   ],
   "source": [
    "id(franchisee)"
   ]
  },
  {
   "cell_type": "code",
   "execution_count": 14,
   "id": "ce2d0591",
   "metadata": {},
   "outputs": [],
   "source": [
    "name, age, *teams = \"Virat\", 33, \"RCB\", \"INDIA\""
   ]
  },
  {
   "cell_type": "code",
   "execution_count": 15,
   "id": "d4dac3e3",
   "metadata": {},
   "outputs": [
    {
     "data": {
      "text/plain": [
       "['RCB', 'INDIA']"
      ]
     },
     "execution_count": 15,
     "metadata": {},
     "output_type": "execute_result"
    }
   ],
   "source": [
    "teams"
   ]
  },
  {
   "cell_type": "code",
   "execution_count": 16,
   "id": "2c87afa1",
   "metadata": {},
   "outputs": [
    {
     "name": "stdout",
     "output_type": "stream",
     "text": [
      "<class 'list'>\n"
     ]
    }
   ],
   "source": [
    "print(type(teams))"
   ]
  },
  {
   "cell_type": "code",
   "execution_count": null,
   "id": "0fed0aaf",
   "metadata": {},
   "outputs": [],
   "source": []
  }
 ],
 "metadata": {
  "kernelspec": {
   "display_name": "Python 3 (ipykernel)",
   "language": "python",
   "name": "python3"
  },
  "language_info": {
   "codemirror_mode": {
    "name": "ipython",
    "version": 3
   },
   "file_extension": ".py",
   "mimetype": "text/x-python",
   "name": "python",
   "nbconvert_exporter": "python",
   "pygments_lexer": "ipython3",
   "version": "3.9.13"
  }
 },
 "nbformat": 4,
 "nbformat_minor": 5
}
