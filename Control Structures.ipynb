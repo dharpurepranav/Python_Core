{
 "cells": [
  {
   "cell_type": "markdown",
   "id": "9486226b",
   "metadata": {},
   "source": [
    "User Input"
   ]
  },
  {
   "cell_type": "code",
   "execution_count": 1,
   "id": "c1f90649",
   "metadata": {},
   "outputs": [
    {
     "name": "stdout",
     "output_type": "stream",
     "text": [
      "Enter the score: 3\n"
     ]
    }
   ],
   "source": [
    "score = input(\"Enter the score: \")# by default input() always return string value"
   ]
  },
  {
   "cell_type": "code",
   "execution_count": 2,
   "id": "7d9d5d6d",
   "metadata": {},
   "outputs": [
    {
     "data": {
      "text/plain": [
       "'3'"
      ]
     },
     "execution_count": 2,
     "metadata": {},
     "output_type": "execute_result"
    }
   ],
   "source": [
    "score"
   ]
  },
  {
   "cell_type": "code",
   "execution_count": 3,
   "id": "64f44e06",
   "metadata": {},
   "outputs": [
    {
     "name": "stdout",
     "output_type": "stream",
     "text": [
      "Enter the score: 12\n"
     ]
    }
   ],
   "source": [
    "score = int(input(\"Enter the score: \"))"
   ]
  },
  {
   "cell_type": "code",
   "execution_count": 4,
   "id": "a47e97e2",
   "metadata": {},
   "outputs": [
    {
     "data": {
      "text/plain": [
       "12"
      ]
     },
     "execution_count": 4,
     "metadata": {},
     "output_type": "execute_result"
    }
   ],
   "source": [
    "score"
   ]
  },
  {
   "cell_type": "code",
   "execution_count": 5,
   "id": "7f304273",
   "metadata": {},
   "outputs": [
    {
     "data": {
      "text/plain": [
       "int"
      ]
     },
     "execution_count": 5,
     "metadata": {},
     "output_type": "execute_result"
    }
   ],
   "source": [
    "type(score)"
   ]
  },
  {
   "cell_type": "markdown",
   "id": "479b7891",
   "metadata": {},
   "source": [
    "Conditional Statements:\n",
    "\n",
    "- if\n",
    "- if else\n",
    "- elif"
   ]
  },
  {
   "cell_type": "code",
   "execution_count": 6,
   "id": "1e72bfef",
   "metadata": {},
   "outputs": [
    {
     "name": "stdout",
     "output_type": "stream",
     "text": [
      "Enter any number: 5\n"
     ]
    }
   ],
   "source": [
    "number = int(input(\"Enter any number: \"))"
   ]
  },
  {
   "cell_type": "code",
   "execution_count": 7,
   "id": "b56ed143",
   "metadata": {},
   "outputs": [
    {
     "name": "stdout",
     "output_type": "stream",
     "text": [
      "User has entered positive number 5\n"
     ]
    }
   ],
   "source": [
    "#if statement\n",
    "if number > 0:\n",
    "    print(\"User has entered positive number\",number)"
   ]
  },
  {
   "cell_type": "code",
   "execution_count": 8,
   "id": "4b4ceab0",
   "metadata": {},
   "outputs": [
    {
     "name": "stdout",
     "output_type": "stream",
     "text": [
      "User has entered positive number 5\n"
     ]
    }
   ],
   "source": [
    "#if else statement\n",
    "if number > 0:\n",
    "    print(\"User has entered positive number\",number)\n",
    "else:\n",
    "    print(\"User has entered negative number\",number)\n",
    "    "
   ]
  },
  {
   "cell_type": "code",
   "execution_count": 9,
   "id": "b710312f",
   "metadata": {},
   "outputs": [
    {
     "name": "stdout",
     "output_type": "stream",
     "text": [
      "User has entered positive number 5\n"
     ]
    }
   ],
   "source": [
    "if number > 0:\n",
    "    print(\"User has entered positive number\",number)\n",
    "elif number == 0:\n",
    "    print(\"User has entered\",number)\n",
    "else:\n",
    "    print(\"User has entered negative number\",number)"
   ]
  },
  {
   "cell_type": "markdown",
   "id": "71c3f14d",
   "metadata": {},
   "source": [
    "While statement"
   ]
  },
  {
   "cell_type": "code",
   "execution_count": 10,
   "id": "cf864912",
   "metadata": {},
   "outputs": [
    {
     "name": "stdout",
     "output_type": "stream",
     "text": [
      "1\n",
      "2\n",
      "3\n",
      "4\n",
      "5\n",
      "6\n",
      "7\n",
      "8\n",
      "9\n",
      "10\n"
     ]
    }
   ],
   "source": [
    "index = 1\n",
    "while index <= 10:\n",
    "    print(index)\n",
    "    index += 1"
   ]
  },
  {
   "cell_type": "code",
   "execution_count": 11,
   "id": "bf9a1310",
   "metadata": {},
   "outputs": [],
   "source": [
    "r = list(range(1,10,2))"
   ]
  },
  {
   "cell_type": "markdown",
   "id": "bc5d77ac",
   "metadata": {},
   "source": [
    "For statement"
   ]
  },
  {
   "cell_type": "code",
   "execution_count": 12,
   "id": "d7aaa5b7",
   "metadata": {},
   "outputs": [
    {
     "name": "stdout",
     "output_type": "stream",
     "text": [
      "1\n",
      "3\n",
      "5\n",
      "7\n",
      "9\n"
     ]
    }
   ],
   "source": [
    "for item in r:\n",
    "    print(item)"
   ]
  },
  {
   "cell_type": "code",
   "execution_count": 13,
   "id": "5916df0b",
   "metadata": {},
   "outputs": [
    {
     "name": "stdout",
     "output_type": "stream",
     "text": [
      "['amazon', 'flipkart', 'apple']\n"
     ]
    }
   ],
   "source": [
    "company_names = ['amazon','flipkart','apple']\n",
    "print(company_names)"
   ]
  },
  {
   "cell_type": "code",
   "execution_count": 14,
   "id": "7a456819",
   "metadata": {},
   "outputs": [
    {
     "name": "stdout",
     "output_type": "stream",
     "text": [
      "www.amazon.com\n",
      "www.flipkart.com\n",
      "www.apple.com\n"
     ]
    }
   ],
   "source": [
    "websites = []\n",
    "for i in company_names:\n",
    "    websites.append(\"www.\"+ i +\".com\")\n",
    "    print(\"www.\"+ i +\".com\")"
   ]
  },
  {
   "cell_type": "code",
   "execution_count": 15,
   "id": "d245e486",
   "metadata": {},
   "outputs": [
    {
     "data": {
      "text/plain": [
       "['www.amazon.com', 'www.flipkart.com', 'www.apple.com']"
      ]
     },
     "execution_count": 15,
     "metadata": {},
     "output_type": "execute_result"
    }
   ],
   "source": [
    "websites "
   ]
  },
  {
   "cell_type": "code",
   "execution_count": 16,
   "id": "eee8e037",
   "metadata": {},
   "outputs": [
    {
     "data": {
      "text/plain": [
       "['www.amazon.com', 'www.flipkart.com', 'www.apple.com']"
      ]
     },
     "execution_count": 16,
     "metadata": {},
     "output_type": "execute_result"
    }
   ],
   "source": [
    "websites = []\n",
    "for i in company_names:\n",
    "    i = \"www.\"+i+\".com\"\n",
    "    websites.append(i)\n",
    "websites"
   ]
  },
  {
   "cell_type": "code",
   "execution_count": 17,
   "id": "8c906c1d",
   "metadata": {},
   "outputs": [],
   "source": [
    "VK = {'name':\"Virat\",'age':33,'team':\"RCB\"}"
   ]
  },
  {
   "cell_type": "code",
   "execution_count": 18,
   "id": "4fdd8722",
   "metadata": {},
   "outputs": [
    {
     "name": "stdout",
     "output_type": "stream",
     "text": [
      "name\n",
      "age\n",
      "team\n"
     ]
    }
   ],
   "source": [
    "for i in VK:\n",
    "    print(i)"
   ]
  },
  {
   "cell_type": "code",
   "execution_count": 19,
   "id": "c950cb0a",
   "metadata": {},
   "outputs": [
    {
     "name": "stdout",
     "output_type": "stream",
     "text": [
      "Virat\n",
      "33\n",
      "RCB\n"
     ]
    }
   ],
   "source": [
    "for i in VK.values():\n",
    "    print(i)"
   ]
  },
  {
   "cell_type": "code",
   "execution_count": 20,
   "id": "47e2be03",
   "metadata": {},
   "outputs": [
    {
     "name": "stdout",
     "output_type": "stream",
     "text": [
      "('name', 'Virat')\n",
      "('age', 33)\n",
      "('team', 'RCB')\n"
     ]
    }
   ],
   "source": [
    "for i in VK.items():\n",
    "    print(i)"
   ]
  },
  {
   "cell_type": "code",
   "execution_count": 21,
   "id": "8c552031",
   "metadata": {},
   "outputs": [
    {
     "name": "stdout",
     "output_type": "stream",
     "text": [
      "name Virat\n",
      "age 33\n",
      "team RCB\n"
     ]
    }
   ],
   "source": [
    "for i, j in VK.items():\n",
    "    print(i, j)"
   ]
  },
  {
   "cell_type": "code",
   "execution_count": 22,
   "id": "bdecca3b",
   "metadata": {},
   "outputs": [
    {
     "name": "stdout",
     "output_type": "stream",
     "text": [
      "0 www.amazon.com\n",
      "1 www.flipkart.com\n",
      "2 www.apple.com\n"
     ]
    }
   ],
   "source": [
    "for i, j in enumerate(websites):\n",
    "    print(i, j)"
   ]
  },
  {
   "cell_type": "code",
   "execution_count": 23,
   "id": "5dd7aaac",
   "metadata": {},
   "outputs": [
    {
     "name": "stdout",
     "output_type": "stream",
     "text": [
      "0 amazon\n",
      "1 flipkart\n",
      "2 apple\n"
     ]
    }
   ],
   "source": [
    "for i, j in enumerate(company_names):\n",
    "    print(i, j)"
   ]
  },
  {
   "cell_type": "markdown",
   "id": "a9e9e510",
   "metadata": {},
   "source": [
    "Break Statement"
   ]
  },
  {
   "cell_type": "code",
   "execution_count": 24,
   "id": "ef6ab972",
   "metadata": {},
   "outputs": [
    {
     "name": "stdout",
     "output_type": "stream",
     "text": [
      "1\n",
      "2\n",
      "3\n",
      "4\n",
      "5\n"
     ]
    }
   ],
   "source": [
    "for i in range(1,11):\n",
    "    print(i)\n",
    "    if i == 5:\n",
    "        break"
   ]
  },
  {
   "cell_type": "markdown",
   "id": "8b95f08f",
   "metadata": {},
   "source": [
    "Continue Statement"
   ]
  },
  {
   "cell_type": "code",
   "execution_count": 25,
   "id": "7fdacf45",
   "metadata": {},
   "outputs": [
    {
     "name": "stdout",
     "output_type": "stream",
     "text": [
      "1\n",
      "3\n",
      "5\n",
      "7\n",
      "9\n"
     ]
    }
   ],
   "source": [
    "for i in range(1,11):\n",
    "    if i%2 == 0:\n",
    "        continue\n",
    "    print(i)"
   ]
  },
  {
   "cell_type": "code",
   "execution_count": 26,
   "id": "55f0f15e",
   "metadata": {},
   "outputs": [
    {
     "name": "stdout",
     "output_type": "stream",
     "text": [
      "enter the name: 10\n"
     ]
    }
   ],
   "source": [
    "# Exercise: take input from the user and reverse it \n",
    "string = input(\"enter the name: \")"
   ]
  },
  {
   "cell_type": "code",
   "execution_count": 27,
   "id": "1ec692de",
   "metadata": {},
   "outputs": [
    {
     "name": "stdout",
     "output_type": "stream",
     "text": [
      "01\n"
     ]
    }
   ],
   "source": [
    "print(string[::-1])"
   ]
  },
  {
   "cell_type": "code",
   "execution_count": 28,
   "id": "e544177c",
   "metadata": {},
   "outputs": [
    {
     "name": "stdout",
     "output_type": "stream",
     "text": [
      "enter a number: 6\n"
     ]
    }
   ],
   "source": [
    "num = int(input(\"enter a number: \"))"
   ]
  },
  {
   "cell_type": "code",
   "execution_count": null,
   "id": "f089c234",
   "metadata": {},
   "outputs": [],
   "source": []
  }
 ],
 "metadata": {
  "kernelspec": {
   "display_name": "Python 3 (ipykernel)",
   "language": "python",
   "name": "python3"
  },
  "language_info": {
   "codemirror_mode": {
    "name": "ipython",
    "version": 3
   },
   "file_extension": ".py",
   "mimetype": "text/x-python",
   "name": "python",
   "nbconvert_exporter": "python",
   "pygments_lexer": "ipython3",
   "version": "3.9.13"
  }
 },
 "nbformat": 4,
 "nbformat_minor": 5
}
