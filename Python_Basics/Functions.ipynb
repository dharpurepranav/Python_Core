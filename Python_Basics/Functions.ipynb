{
 "cells": [
  {
   "cell_type": "markdown",
   "id": "1d5256a7",
   "metadata": {},
   "source": [
    "# Functions"
   ]
  },
  {
   "cell_type": "markdown",
   "id": "77581375",
   "metadata": {},
   "source": [
    "- Code Reusability"
   ]
  },
  {
   "cell_type": "code",
   "execution_count": 2,
   "id": "0efaf854",
   "metadata": {},
   "outputs": [],
   "source": [
    "def simplefunction():\n",
    "    print(\"Starting of an function\")\n",
    "    print(\"Ending of an function\")"
   ]
  },
  {
   "cell_type": "code",
   "execution_count": 3,
   "id": "356a5b9e",
   "metadata": {},
   "outputs": [
    {
     "name": "stdout",
     "output_type": "stream",
     "text": [
      "Starting of an function\n",
      "Ending of an function\n"
     ]
    }
   ],
   "source": [
    "simplefunction()"
   ]
  },
  {
   "cell_type": "code",
   "execution_count": 7,
   "id": "72c19b14",
   "metadata": {},
   "outputs": [],
   "source": [
    "# Find maximum between two numbers\n",
    "def max(x1,x2):\n",
    "    if x1 > x2:\n",
    "        return x1\n",
    "    else:\n",
    "        return x2\n"
   ]
  },
  {
   "cell_type": "code",
   "execution_count": 6,
   "id": "a3000b75",
   "metadata": {},
   "outputs": [
    {
     "data": {
      "text/plain": [
       "10"
      ]
     },
     "execution_count": 6,
     "metadata": {},
     "output_type": "execute_result"
    }
   ],
   "source": [
    "max(8,10)"
   ]
  },
  {
   "cell_type": "markdown",
   "id": "613e3a2b",
   "metadata": {},
   "source": [
    "Factorial\n",
    "\n",
    "- iterative approach\n",
    "\n",
    "- 5! = 5 * 4 * 3 * 2 * 1\n",
    "\n",
    "- 1! = 1\n",
    "\n",
    "- 3! = 3 * 2 * 1\n"
   ]
  },
  {
   "cell_type": "code",
   "execution_count": 9,
   "id": "9b1063b7",
   "metadata": {},
   "outputs": [],
   "source": [
    " def iterfactorial(num):\n",
    "        result = 1\n",
    "        for i in range(1, num+1):\n",
    "            result = result*i\n",
    "        return result"
   ]
  },
  {
   "cell_type": "code",
   "execution_count": 11,
   "id": "889bdac7",
   "metadata": {},
   "outputs": [
    {
     "data": {
      "text/plain": [
       "120"
      ]
     },
     "execution_count": 11,
     "metadata": {},
     "output_type": "execute_result"
    }
   ],
   "source": [
    "iterfactorial(5)"
   ]
  },
  {
   "cell_type": "code",
   "execution_count": 12,
   "id": "4116ceab",
   "metadata": {},
   "outputs": [
    {
     "data": {
      "text/plain": [
       "40320"
      ]
     },
     "execution_count": 12,
     "metadata": {},
     "output_type": "execute_result"
    }
   ],
   "source": [
    "iterfactorial(8)"
   ]
  },
  {
   "cell_type": "code",
   "execution_count": 15,
   "id": "94b8ab9f",
   "metadata": {},
   "outputs": [
    {
     "name": "stdout",
     "output_type": "stream",
     "text": [
      "Enter any number: 5\n",
      "Result: 120\n"
     ]
    }
   ],
   "source": [
    "num = int(input(\"Enter any number: \"))\n",
    "print(\"Result:\", iterfactorial(num))"
   ]
  },
  {
   "cell_type": "markdown",
   "id": "f998e655",
   "metadata": {},
   "source": [
    "Recursive\n",
    "\n",
    "- 5! = 5 * 4!\n",
    "- 4! = 4 * 3!\n",
    "- 3! = 3 * 2!"
   ]
  },
  {
   "cell_type": "code",
   "execution_count": 16,
   "id": "79b98978",
   "metadata": {},
   "outputs": [],
   "source": [
    "def recursive_factorial(num):\n",
    "    if num == 0 or num == 1:\n",
    "        return 1\n",
    "    else:\n",
    "        return num * recursive_factorial(num-1)"
   ]
  },
  {
   "cell_type": "code",
   "execution_count": 17,
   "id": "378eaac4",
   "metadata": {},
   "outputs": [
    {
     "data": {
      "text/plain": [
       "24"
      ]
     },
     "execution_count": 17,
     "metadata": {},
     "output_type": "execute_result"
    }
   ],
   "source": [
    "recursive_factorial(4)"
   ]
  },
  {
   "cell_type": "markdown",
   "id": "7e32f555",
   "metadata": {},
   "source": [
    "Default Arguements"
   ]
  },
  {
   "cell_type": "code",
   "execution_count": 1,
   "id": "30885f7d",
   "metadata": {},
   "outputs": [],
   "source": [
    "def defaultarguement(x):\n",
    "    print(\"The value of x is {}\".format(x))"
   ]
  },
  {
   "cell_type": "code",
   "execution_count": 2,
   "id": "2267a597",
   "metadata": {},
   "outputs": [
    {
     "name": "stdout",
     "output_type": "stream",
     "text": [
      "The value of x is 3\n"
     ]
    }
   ],
   "source": [
    "defaultarguement(3)"
   ]
  },
  {
   "cell_type": "code",
   "execution_count": 3,
   "id": "5c218df6",
   "metadata": {},
   "outputs": [],
   "source": [
    "def defaultarguement(x=5):\n",
    "    print(\"The value of x is {}\".format(x))"
   ]
  },
  {
   "cell_type": "code",
   "execution_count": 4,
   "id": "d05a6fde",
   "metadata": {},
   "outputs": [
    {
     "name": "stdout",
     "output_type": "stream",
     "text": [
      "The value of x is 5\n"
     ]
    }
   ],
   "source": [
    "defaultarguement()"
   ]
  },
  {
   "cell_type": "code",
   "execution_count": 5,
   "id": "a7bead07",
   "metadata": {},
   "outputs": [],
   "source": [
    "###\n",
    "def defaultarguement(a, b, c):\n",
    "    print(\"Result {}, {}, {}\".format(a,b,c))"
   ]
  },
  {
   "cell_type": "code",
   "execution_count": 6,
   "id": "cfc62894",
   "metadata": {},
   "outputs": [
    {
     "name": "stdout",
     "output_type": "stream",
     "text": [
      "Result 10, 20, 30\n"
     ]
    }
   ],
   "source": [
    "defaultarguement(10,20,30)"
   ]
  },
  {
   "cell_type": "code",
   "execution_count": 7,
   "id": "f37cc9b7",
   "metadata": {},
   "outputs": [
    {
     "name": "stdout",
     "output_type": "stream",
     "text": [
      "Result 10, 20, 30\n"
     ]
    }
   ],
   "source": [
    "defaultarguement(10, b=20, c=30)"
   ]
  },
  {
   "cell_type": "code",
   "execution_count": 9,
   "id": "2ae1696b",
   "metadata": {},
   "outputs": [
    {
     "name": "stdout",
     "output_type": "stream",
     "text": [
      "Result 10, 20, 30\n"
     ]
    }
   ],
   "source": [
    "defaultarguement(b=20, c=30, a=10)"
   ]
  },
  {
   "cell_type": "markdown",
   "id": "e25f5ac6",
   "metadata": {},
   "source": [
    "Lambda Function\n",
    "\n",
    "- anonymous function\n",
    "- one liner"
   ]
  },
  {
   "cell_type": "code",
   "execution_count": 10,
   "id": "d0295f7f",
   "metadata": {},
   "outputs": [],
   "source": [
    "def squares(x):\n",
    "    return x * x"
   ]
  },
  {
   "cell_type": "code",
   "execution_count": 11,
   "id": "af8e8bb1",
   "metadata": {},
   "outputs": [
    {
     "data": {
      "text/plain": [
       "64"
      ]
     },
     "execution_count": 11,
     "metadata": {},
     "output_type": "execute_result"
    }
   ],
   "source": [
    "squares(8)"
   ]
  },
  {
   "cell_type": "code",
   "execution_count": 12,
   "id": "d04cc59e",
   "metadata": {},
   "outputs": [],
   "source": [
    "f = lambda x: x * x"
   ]
  },
  {
   "cell_type": "code",
   "execution_count": 13,
   "id": "a279f09e",
   "metadata": {},
   "outputs": [
    {
     "data": {
      "text/plain": [
       "49"
      ]
     },
     "execution_count": 13,
     "metadata": {},
     "output_type": "execute_result"
    }
   ],
   "source": [
    "f(7)"
   ]
  },
  {
   "cell_type": "code",
   "execution_count": 3,
   "id": "6f9e5514",
   "metadata": {},
   "outputs": [],
   "source": [
    "multiply = lambda x,y : x*y"
   ]
  },
  {
   "cell_type": "code",
   "execution_count": 4,
   "id": "59b14643",
   "metadata": {},
   "outputs": [
    {
     "data": {
      "text/plain": [
       "12"
      ]
     },
     "execution_count": 4,
     "metadata": {},
     "output_type": "execute_result"
    }
   ],
   "source": [
    "multiply(3,4)"
   ]
  },
  {
   "cell_type": "code",
   "execution_count": 5,
   "id": "5c0bf997",
   "metadata": {},
   "outputs": [
    {
     "data": {
      "text/plain": [
       "6"
      ]
     },
     "execution_count": 5,
     "metadata": {},
     "output_type": "execute_result"
    }
   ],
   "source": [
    "(lambda x,y:x*y)(2,3)"
   ]
  },
  {
   "cell_type": "markdown",
   "id": "9ddeff1e",
   "metadata": {},
   "source": [
    "args and kwargs"
   ]
  },
  {
   "cell_type": "code",
   "execution_count": 8,
   "id": "3bd91c86",
   "metadata": {},
   "outputs": [],
   "source": [
    "#args\n",
    "def sum_of_numbers(x,y):\n",
    "    result = x+y\n",
    "    return result"
   ]
  },
  {
   "cell_type": "code",
   "execution_count": 9,
   "id": "13960a3f",
   "metadata": {},
   "outputs": [
    {
     "data": {
      "text/plain": [
       "15"
      ]
     },
     "execution_count": 9,
     "metadata": {},
     "output_type": "execute_result"
    }
   ],
   "source": [
    "sum_of_numbers(7,8)"
   ]
  },
  {
   "cell_type": "code",
   "execution_count": 10,
   "id": "6b5cce19",
   "metadata": {},
   "outputs": [],
   "source": [
    " # syntax for giving in multiple arguments (*args)\n",
    "def sum_of_num_args(*args):\n",
    "    \"\"\"this function takes in multiple arguments and return the sum\"\"\"\n",
    "    print(\"args:\", args)\n",
    "    print(\"Type of args:\", type(args))\n",
    "    result = 0\n",
    "    for i in args:\n",
    "        #print(\"iterator\", i)\n",
    "        result += i\n",
    "    print(\"result: \", result)"
   ]
  },
  {
   "cell_type": "code",
   "execution_count": 11,
   "id": "8e515678",
   "metadata": {},
   "outputs": [
    {
     "name": "stdout",
     "output_type": "stream",
     "text": [
      "args: (4, 8)\n",
      "type of args: <class 'tuple'>\n",
      "result: 12\n"
     ]
    }
   ],
   "source": [
    "sum_of_numbers_args(4,8)"
   ]
  },
  {
   "cell_type": "code",
   "execution_count": 12,
   "id": "095900b6",
   "metadata": {},
   "outputs": [
    {
     "name": "stdout",
     "output_type": "stream",
     "text": [
      "args: (2, 4, 6, 8, 10)\n",
      "Type of args: <class 'tuple'>\n",
      "result:  30\n"
     ]
    }
   ],
   "source": [
    "sum_of_num_args(2,4,6,8,10)"
   ]
  },
  {
   "cell_type": "code",
   "execution_count": 13,
   "id": "c6acbe61",
   "metadata": {},
   "outputs": [],
   "source": [
    "t = (1,2,3,4,5)"
   ]
  },
  {
   "cell_type": "code",
   "execution_count": 14,
   "id": "e1303c18",
   "metadata": {},
   "outputs": [
    {
     "name": "stdout",
     "output_type": "stream",
     "text": [
      "args: ((1, 2, 3, 4, 5),)\n",
      "Type of args: <class 'tuple'>\n"
     ]
    },
    {
     "ename": "TypeError",
     "evalue": "unsupported operand type(s) for +=: 'int' and 'tuple'",
     "output_type": "error",
     "traceback": [
      "\u001b[1;31m---------------------------------------------------------------------------\u001b[0m",
      "\u001b[1;31mTypeError\u001b[0m                                 Traceback (most recent call last)",
      "Cell \u001b[1;32mIn [14], line 1\u001b[0m\n\u001b[1;32m----> 1\u001b[0m \u001b[43msum_of_num_args\u001b[49m\u001b[43m(\u001b[49m\u001b[43mt\u001b[49m\u001b[43m)\u001b[49m\n",
      "Cell \u001b[1;32mIn [10], line 9\u001b[0m, in \u001b[0;36msum_of_num_args\u001b[1;34m(*args)\u001b[0m\n\u001b[0;32m      6\u001b[0m result \u001b[38;5;241m=\u001b[39m \u001b[38;5;241m0\u001b[39m\n\u001b[0;32m      7\u001b[0m \u001b[38;5;28;01mfor\u001b[39;00m i \u001b[38;5;129;01min\u001b[39;00m args:\n\u001b[0;32m      8\u001b[0m     \u001b[38;5;66;03m#print(\"iterator\", i)\u001b[39;00m\n\u001b[1;32m----> 9\u001b[0m     result \u001b[38;5;241m+\u001b[39m\u001b[38;5;241m=\u001b[39m i\n\u001b[0;32m     10\u001b[0m \u001b[38;5;28mprint\u001b[39m(\u001b[38;5;124m\"\u001b[39m\u001b[38;5;124mresult: \u001b[39m\u001b[38;5;124m\"\u001b[39m, result)\n",
      "\u001b[1;31mTypeError\u001b[0m: unsupported operand type(s) for +=: 'int' and 'tuple'"
     ]
    }
   ],
   "source": [
    "sum_of_num_args(t)"
   ]
  },
  {
   "cell_type": "code",
   "execution_count": 15,
   "id": "e67d2ea4",
   "metadata": {},
   "outputs": [
    {
     "name": "stdout",
     "output_type": "stream",
     "text": [
      "args: (1, 2, 3)\n",
      "Type of args: <class 'tuple'>\n",
      "result:  6\n"
     ]
    }
   ],
   "source": [
    "sum_of_num_args(t[0],t[1],t[2])"
   ]
  },
  {
   "cell_type": "code",
   "execution_count": 16,
   "id": "3f23a2dc",
   "metadata": {},
   "outputs": [],
   "source": [
    "def mul_args(*args):\n",
    "    \"\"\" this  function is used to take multiple arguments\"\"\"\n",
    "    print(\"arcs:\",args)\n",
    "    print(\"type of args\",type(args))\n",
    "    result=0\n",
    "    for i in args:\n",
    "        print(\"iterator:\",i)\n",
    "        result= i**i\n",
    "    print('result:', result)\n"
   ]
  },
  {
   "cell_type": "code",
   "execution_count": 17,
   "id": "d6b23328",
   "metadata": {},
   "outputs": [
    {
     "name": "stdout",
     "output_type": "stream",
     "text": [
      "arcs: (2, 3, 6)\n",
      "type of args <class 'tuple'>\n",
      "iterator: 2\n",
      "iterator: 3\n",
      "iterator: 6\n",
      "result: 46656\n"
     ]
    }
   ],
   "source": [
    "mul_args(2,3,6)"
   ]
  },
  {
   "cell_type": "code",
   "execution_count": null,
   "id": "b6bce699",
   "metadata": {},
   "outputs": [],
   "source": []
  }
 ],
 "metadata": {
  "kernelspec": {
   "display_name": "Python 3 (ipykernel)",
   "language": "python",
   "name": "python3"
  },
  "language_info": {
   "codemirror_mode": {
    "name": "ipython",
    "version": 3
   },
   "file_extension": ".py",
   "mimetype": "text/x-python",
   "name": "python",
   "nbconvert_exporter": "python",
   "pygments_lexer": "ipython3",
   "version": "3.9.13"
  }
 },
 "nbformat": 4,
 "nbformat_minor": 5
}
