{
 "cells": [
  {
   "cell_type": "markdown",
   "id": "1d5256a7",
   "metadata": {},
   "source": [
    "# Functions"
   ]
  },
  {
   "cell_type": "markdown",
   "id": "77581375",
   "metadata": {},
   "source": [
    "- Code Reusability"
   ]
  },
  {
   "cell_type": "code",
   "execution_count": 2,
   "id": "0efaf854",
   "metadata": {},
   "outputs": [],
   "source": [
    "def simplefunction():\n",
    "    print(\"Starting of an function\")\n",
    "    print(\"Ending of an function\")"
   ]
  },
  {
   "cell_type": "code",
   "execution_count": 3,
   "id": "356a5b9e",
   "metadata": {},
   "outputs": [
    {
     "name": "stdout",
     "output_type": "stream",
     "text": [
      "Starting of an function\n",
      "Ending of an function\n"
     ]
    }
   ],
   "source": [
    "simplefunction()"
   ]
  },
  {
   "cell_type": "code",
   "execution_count": 7,
   "id": "72c19b14",
   "metadata": {},
   "outputs": [],
   "source": [
    "# Find maximum between two numbers\n",
    "def max(x1,x2):\n",
    "    if x1 > x2:\n",
    "        return x1\n",
    "    else:\n",
    "        return x2\n"
   ]
  },
  {
   "cell_type": "code",
   "execution_count": 6,
   "id": "a3000b75",
   "metadata": {},
   "outputs": [
    {
     "data": {
      "text/plain": [
       "10"
      ]
     },
     "execution_count": 6,
     "metadata": {},
     "output_type": "execute_result"
    }
   ],
   "source": [
    "max(8,10)"
   ]
  },
  {
   "cell_type": "markdown",
   "id": "613e3a2b",
   "metadata": {},
   "source": [
    "Factorial\n",
    "\n",
    "- iterative approach\n",
    "\n",
    "- 5! = 5 * 4 * 3 * 2 * 1\n",
    "\n",
    "- 1! = 1\n",
    "\n",
    "- 3! = 3 * 2 * 1\n"
   ]
  },
  {
   "cell_type": "code",
   "execution_count": 9,
   "id": "9b1063b7",
   "metadata": {},
   "outputs": [],
   "source": [
    " def iterfactorial(num):\n",
    "        result = 1\n",
    "        for i in range(1, num+1):\n",
    "            result = result*i\n",
    "        return result"
   ]
  },
  {
   "cell_type": "code",
   "execution_count": 11,
   "id": "889bdac7",
   "metadata": {},
   "outputs": [
    {
     "data": {
      "text/plain": [
       "120"
      ]
     },
     "execution_count": 11,
     "metadata": {},
     "output_type": "execute_result"
    }
   ],
   "source": [
    "iterfactorial(5)"
   ]
  },
  {
   "cell_type": "code",
   "execution_count": 12,
   "id": "4116ceab",
   "metadata": {},
   "outputs": [
    {
     "data": {
      "text/plain": [
       "40320"
      ]
     },
     "execution_count": 12,
     "metadata": {},
     "output_type": "execute_result"
    }
   ],
   "source": [
    "iterfactorial(8)"
   ]
  },
  {
   "cell_type": "code",
   "execution_count": 15,
   "id": "94b8ab9f",
   "metadata": {},
   "outputs": [
    {
     "name": "stdout",
     "output_type": "stream",
     "text": [
      "Enter any number: 5\n",
      "Result: 120\n"
     ]
    }
   ],
   "source": [
    "num = int(input(\"Enter any number: \"))\n",
    "print(\"Result:\", iterfactorial(num))"
   ]
  },
  {
   "cell_type": "markdown",
   "id": "f998e655",
   "metadata": {},
   "source": [
    "Recursive\n",
    "\n",
    "- 5! = 5 * 4!\n",
    "- 4! = 4 * 3!\n",
    "- 3! = 3 * 2!"
   ]
  },
  {
   "cell_type": "code",
   "execution_count": 16,
   "id": "79b98978",
   "metadata": {},
   "outputs": [],
   "source": [
    "def recursive_factorial(num):\n",
    "    if num == 0 or num == 1:\n",
    "        return 1\n",
    "    else:\n",
    "        return num * recursive_factorial(num-1)"
   ]
  },
  {
   "cell_type": "code",
   "execution_count": 17,
   "id": "378eaac4",
   "metadata": {},
   "outputs": [
    {
     "data": {
      "text/plain": [
       "24"
      ]
     },
     "execution_count": 17,
     "metadata": {},
     "output_type": "execute_result"
    }
   ],
   "source": [
    "recursive_factorial(4)"
   ]
  },
  {
   "cell_type": "markdown",
   "id": "7e32f555",
   "metadata": {},
   "source": [
    "Default Arguements"
   ]
  },
  {
   "cell_type": "code",
   "execution_count": 1,
   "id": "30885f7d",
   "metadata": {},
   "outputs": [],
   "source": [
    "def defaultarguement(x):\n",
    "    print(\"The value of x is {}\".format(x))"
   ]
  },
  {
   "cell_type": "code",
   "execution_count": 2,
   "id": "2267a597",
   "metadata": {},
   "outputs": [
    {
     "name": "stdout",
     "output_type": "stream",
     "text": [
      "The value of x is 3\n"
     ]
    }
   ],
   "source": [
    "defaultarguement(3)"
   ]
  },
  {
   "cell_type": "code",
   "execution_count": 3,
   "id": "5c218df6",
   "metadata": {},
   "outputs": [],
   "source": [
    "def defaultarguement(x=5):\n",
    "    print(\"The value of x is {}\".format(x))"
   ]
  },
  {
   "cell_type": "code",
   "execution_count": 4,
   "id": "d05a6fde",
   "metadata": {},
   "outputs": [
    {
     "name": "stdout",
     "output_type": "stream",
     "text": [
      "The value of x is 5\n"
     ]
    }
   ],
   "source": [
    "defaultarguement()"
   ]
  },
  {
   "cell_type": "code",
   "execution_count": 5,
   "id": "a7bead07",
   "metadata": {},
   "outputs": [],
   "source": [
    "###\n",
    "def defaultarguement(a, b, c):\n",
    "    print(\"Result {}, {}, {}\".format(a,b,c))"
   ]
  },
  {
   "cell_type": "code",
   "execution_count": 6,
   "id": "cfc62894",
   "metadata": {},
   "outputs": [
    {
     "name": "stdout",
     "output_type": "stream",
     "text": [
      "Result 10, 20, 30\n"
     ]
    }
   ],
   "source": [
    "defaultarguement(10,20,30)"
   ]
  },
  {
   "cell_type": "code",
   "execution_count": 7,
   "id": "f37cc9b7",
   "metadata": {},
   "outputs": [
    {
     "name": "stdout",
     "output_type": "stream",
     "text": [
      "Result 10, 20, 30\n"
     ]
    }
   ],
   "source": [
    "defaultarguement(10, b=20, c=30)"
   ]
  },
  {
   "cell_type": "code",
   "execution_count": 9,
   "id": "2ae1696b",
   "metadata": {},
   "outputs": [
    {
     "name": "stdout",
     "output_type": "stream",
     "text": [
      "Result 10, 20, 30\n"
     ]
    }
   ],
   "source": [
    "defaultarguement(b=20, c=30, a=10)"
   ]
  },
  {
   "cell_type": "markdown",
   "id": "e25f5ac6",
   "metadata": {},
   "source": [
    "Lambda Function\n",
    "\n",
    "- anonymous function\n",
    "- one liner"
   ]
  },
  {
   "cell_type": "code",
   "execution_count": 10,
   "id": "d0295f7f",
   "metadata": {},
   "outputs": [],
   "source": [
    "def squares(x):\n",
    "    return x * x"
   ]
  },
  {
   "cell_type": "code",
   "execution_count": 11,
   "id": "af8e8bb1",
   "metadata": {},
   "outputs": [
    {
     "data": {
      "text/plain": [
       "64"
      ]
     },
     "execution_count": 11,
     "metadata": {},
     "output_type": "execute_result"
    }
   ],
   "source": [
    "squares(8)"
   ]
  },
  {
   "cell_type": "code",
   "execution_count": 12,
   "id": "d04cc59e",
   "metadata": {},
   "outputs": [],
   "source": [
    "f = lambda x: x * x"
   ]
  },
  {
   "cell_type": "code",
   "execution_count": 13,
   "id": "a279f09e",
   "metadata": {},
   "outputs": [
    {
     "data": {
      "text/plain": [
       "49"
      ]
     },
     "execution_count": 13,
     "metadata": {},
     "output_type": "execute_result"
    }
   ],
   "source": [
    "f(7)"
   ]
  },
  {
   "cell_type": "code",
   "execution_count": null,
   "id": "6f9e5514",
   "metadata": {},
   "outputs": [],
   "source": []
  }
 ],
 "metadata": {
  "kernelspec": {
   "display_name": "Python 3 (ipykernel)",
   "language": "python",
   "name": "python3"
  },
  "language_info": {
   "codemirror_mode": {
    "name": "ipython",
    "version": 3
   },
   "file_extension": ".py",
   "mimetype": "text/x-python",
   "name": "python",
   "nbconvert_exporter": "python",
   "pygments_lexer": "ipython3",
   "version": "3.9.13"
  }
 },
 "nbformat": 4,
 "nbformat_minor": 5
}
